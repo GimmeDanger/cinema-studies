{
 "cells": [
  {
   "cell_type": "code",
   "execution_count": 3,
   "metadata": {},
   "outputs": [],
   "source": [
    "#Notebook for gathering data from https://variety.com/"
   ]
  },
  {
   "cell_type": "code",
   "execution_count": 15,
   "metadata": {},
   "outputs": [],
   "source": [
    "import requests\n",
    "import re\n",
    "from bs4 import BeautifulSoup"
   ]
  },
  {
   "cell_type": "code",
   "execution_count": 65,
   "metadata": {},
   "outputs": [],
   "source": [
    "class VarietyParseFormat:\n",
    "    host_name = \"https://variety.com\"\n",
    "    categories = [\"news\", \"reviews\", \"columns\"]\n",
    "    max_page_num = 1 #1000000000 #inf    \n",
    "\n",
    "    def hay_page_URL(self, cat_name, page_num):\n",
    "        return f\"{self.host_name}/v/film/{cat_name}/page/{page_num}\"\n",
    "\n",
    "    def needle_URL_regexp(self, cat_name):\n",
    "        return f\"^{self.host_name}/\\d*/film/{cat_name}\""
   ]
  },
  {
   "cell_type": "code",
   "execution_count": 66,
   "metadata": {},
   "outputs": [],
   "source": [
    "# Finds all urls on <html_page>\n",
    "# and saves them into <urls_set>,\n",
    "# url must satisfy <url_regexp> pattern\n",
    "def gather_page_urls(response, url_regexp, urls_set):\n",
    "    html_page = response.text\n",
    "    soup = BeautifulSoup(html_page)\n",
    "    for link in soup.findAll('a', attrs={'href': re.compile(url_regexp)}):\n",
    "        urls_set.add(link.get('href'))\n",
    "    return response.status_code\n",
    "        \n",
    "def gather_site_pages(parse_format):\n",
    "    urls_by_categories = {}\n",
    "    for cat_name in parse_format.categories:\n",
    "        urls = set()\n",
    "        needle_pattern = parse_format.needle_URL_regexp(cat_name)\n",
    "        for page_num in range(parse_format.max_page_num):\n",
    "            hay_url = parse_format.hay_page_URL(cat_name, page_num)            \n",
    "            response = requests.get(hay_url)\n",
    "            status = gather_page_urls(response, needle_pattern, urls)\n",
    "            if status == 400:\n",
    "                break\n",
    "        urls_by_categories[cat_name] = urls\n",
    "    return urls_by_categories"
   ]
  },
  {
   "cell_type": "code",
   "execution_count": 72,
   "metadata": {},
   "outputs": [],
   "source": [
    "urls = gather_site_pages(VarietyParseFormat())"
   ]
  },
  {
   "cell_type": "code",
   "execution_count": 73,
   "metadata": {},
   "outputs": [
    {
     "name": "stdout",
     "output_type": "stream",
     "text": [
      "{'https://variety.com/2019/film/news/cinemacon-exhibitors-streaming-1203173106/', 'https://variety.com/2019/film/news/jim-jarmusch-bill-murray-zombie-movie-2-1203174194/', 'https://variety.com/2019/film/news/music-box-films-francois-ozon-silver-bear-winner-by-the-grace-of-god-1203173837/', 'https://variety.com/2019/film/news/jj-abrams-writers-guild-agents-1203174243/', 'https://variety.com/2019/film/news/seth-rogen-evan-goldberg-cannabis-company-1203174116/', 'https://variety.com/2019/film/news/small-theaters-exhibitors-movie-business-1203170700/', 'https://variety.com/2019/film/news/stx-ups-two-u-k-boss-exiting-in-international-rejig-1203173948/', 'https://variety.com/2019/film/news/sonequa-martin-green-lebron-james-space-jam-2-1203174107/', 'https://variety.com/2019/film/news/movie-theater-janitor-exploitation-1203170717/', 'https://variety.com/2019/film/news/disney-dumbo-box-office-opening-weekend-1203173135/', 'https://variety.com/2019/film/news/writers-voting-code-of-conduct-agent-firings-1203173938/', 'https://variety.com/2019/film/news/agents-warned-wga-negotiations-1203174108/', 'https://variety.com/2019/film/news/marco-beltrami-honored-ghent-film-festival-exclusive-1203173610/', 'https://variety.com/2019/film/news/amazon-prime-whats-coming-april-2019-1203174170/'}\n"
     ]
    }
   ],
   "source": [
    "print(urls[\"news\"])"
   ]
  },
  {
   "cell_type": "code",
   "execution_count": null,
   "metadata": {},
   "outputs": [],
   "source": []
  }
 ],
 "metadata": {
  "kernelspec": {
   "display_name": "Python 3",
   "language": "python",
   "name": "python3"
  },
  "language_info": {
   "codemirror_mode": {
    "name": "ipython",
    "version": 3
   },
   "file_extension": ".py",
   "mimetype": "text/x-python",
   "name": "python",
   "nbconvert_exporter": "python",
   "pygments_lexer": "ipython3",
   "version": "3.7.1"
  }
 },
 "nbformat": 4,
 "nbformat_minor": 2
}
