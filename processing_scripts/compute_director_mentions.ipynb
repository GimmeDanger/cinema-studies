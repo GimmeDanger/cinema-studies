{
 "cells": [
  {
   "cell_type": "code",
   "execution_count": 49,
   "metadata": {},
   "outputs": [],
   "source": [
    "#Notebook for experiments in gathering data"
   ]
  },
  {
   "cell_type": "code",
   "execution_count": 50,
   "metadata": {},
   "outputs": [],
   "source": [
    "import os\n",
    "import re\n",
    "import csv\n",
    "import requests\n",
    "import warnings\n",
    "import pandas as pd\n",
    "from bs4 import BeautifulSoup\n",
    "from tqdm import tqdm, tqdm_notebook\n",
    "#warnings.filterwarnings('ignore')"
   ]
  },
  {
   "cell_type": "code",
   "execution_count": 51,
   "metadata": {},
   "outputs": [
    {
     "name": "stdout",
     "output_type": "stream",
     "text": [
      "1772 1035\n"
     ]
    }
   ],
   "source": [
    "# load directors names\n",
    "male_directors_path = f\"../data/director_lists/wiki/male_directors_wiki_latinized_20190616.csv\"\n",
    "female_directors_path = f\"../data/director_lists/wiki/female_directors_wiki_latinized_20190616.csv\"\n",
    "male_directors_df = pd.read_csv(male_directors_path)\n",
    "female_directors_df = pd.read_csv(female_directors_path)\n",
    "print(len(male_directors_df), len(female_directors_df))"
   ]
  },
  {
   "cell_type": "code",
   "execution_count": 52,
   "metadata": {},
   "outputs": [
    {
     "name": "stdout",
     "output_type": "stream",
     "text": [
      "1772 1035\n"
     ]
    }
   ],
   "source": [
    "male_names = set(male_directors_df.name)\n",
    "female_names = set(female_directors_df.name)\n",
    "print(len(male_names), len(female_names))"
   ]
  },
  {
   "cell_type": "code",
   "execution_count": 53,
   "metadata": {},
   "outputs": [
    {
     "name": "stdout",
     "output_type": "stream",
     "text": [
      "1746 991\n"
     ]
    }
   ],
   "source": [
    "# ignore actresses/actors\n",
    "\n",
    "male_directors_stop_list_path = \"../data/director_lists/wiki/so_called_male_directors_from_top_200_deadline_20190707.txt\"\n",
    "female_directors_stop_list_path = \"../data/director_lists/wiki/so_called_female_directors_from_top_170_deadline_20190707.txt\"\n",
    "\n",
    "with open(male_directors_stop_list_path, 'r') as f_male, open(female_directors_stop_list_path, 'r') as f_female:\n",
    "    male_stop_names = set()\n",
    "    for line in f_male:\n",
    "        male_stop_names.add(line[:-1])\n",
    "    male_names = male_names - male_stop_names    \n",
    "    female_stop_names = set()    \n",
    "    for line in f_female:\n",
    "        female_stop_names.add(line[:-1])\n",
    "    female_names = female_names - female_stop_names\n",
    "        \n",
    "print(len(male_names), len(female_names))"
   ]
  },
  {
   "cell_type": "code",
   "execution_count": 112,
   "metadata": {},
   "outputs": [],
   "source": [
    "#media_name = \"deadline\"\n",
    "#media_name = \"hollywood_reporter\"\n",
    "media_name = \"variety\"\n",
    "path = f\"../data/full_{media_name}_df.csv\"\n",
    "df = pd.read_csv(path)\n",
    "df = df.drop(df.columns[0], axis=1)\n",
    "#df.head()"
   ]
  },
  {
   "cell_type": "code",
   "execution_count": 113,
   "metadata": {},
   "outputs": [
    {
     "data": {
      "text/plain": [
       "'\\ndef parse_date(str_date):\\n    year = (int)(str_date[:4])\\n    month = (int)(str_date[:7][5:])\\n    return (year, month)\\n\\ndef valid_date(str_date):\\n    year = parse_date(str_date)[0]\\n    if year >= 2008 and year <= 2018:\\n        return True\\n    else:\\n        return False;\\n    \\ndef find_in(line, names):\\n    res = []\\n    for name in names:\\n        if name in line:\\n            res.append(name)\\n    return res    \\n    \\ndef process(df, male_names, female_names):\\n    males = dict()\\n    females = dict()\\n    with tqdm(desc=\"rows\", total=len(df)) as pbar_outer:    \\n        for row in df.itertuples():\\n            # check only required dates\\n            if media_name == \\'deadline\\' or media_name == \\'variety\\':\\n                str_date = getattr(row, \\'published_at\\')\\n            elif media_name == \\'hollywood_reporter\\':\\n                str_date = getattr(row, \\'date\\')\\n            try:\\n                if not valid_date(str_date):\\n                    pbar_outer.update(1)\\n                    continue\\n            except:\\n                print(row)\\n                pbar_outer.update(1)\\n                continue\\n            \\n            # go through text to find directors\\n            month = parse_date(str_date)\\n            text_path = getattr(row, \\'text_path\\')\\n            for line in open(f\\'../../modified_dfs/{text_path}\\'):\\n                # look up male names\\n                for name in find_in(line, male_names):\\n                    if month in males:\\n                        if name in males[month]:\\n                            males[month][name].append(text_path)                                 \\n                        else:\\n                            males[month][name] = [text_path]\\n                    else:\\n                        males[month] = {name : [text_path]}\\n                # look up female names        \\n                for name in find_in(line, female_names):\\n                    if month in females:\\n                        if name in females[month]:\\n                            females[month][name].append(text_path)                                                             \\n                        else:\\n                            females[month][name] = [text_path]\\n                    else:\\n                        females[month] = {name : [text_path]}    \\n            pbar_outer.update(1)\\n    return males, females            \\n\\nmales, females = process(df, male_names, female_names)\\n'"
      ]
     },
     "execution_count": 113,
     "metadata": {},
     "output_type": "execute_result"
    }
   ],
   "source": [
    "#Parsing script\n",
    "'''\n",
    "def parse_date(str_date):\n",
    "    year = (int)(str_date[:4])\n",
    "    month = (int)(str_date[:7][5:])\n",
    "    return (year, month)\n",
    "\n",
    "def valid_date(str_date):\n",
    "    year = parse_date(str_date)[0]\n",
    "    if year >= 2008 and year <= 2018:\n",
    "        return True\n",
    "    else:\n",
    "        return False;\n",
    "    \n",
    "def find_in(line, names):\n",
    "    res = []\n",
    "    for name in names:\n",
    "        if name in line:\n",
    "            res.append(name)\n",
    "    return res    \n",
    "    \n",
    "def process(df, male_names, female_names):\n",
    "    males = dict()\n",
    "    females = dict()\n",
    "    with tqdm(desc=\"rows\", total=len(df)) as pbar_outer:    \n",
    "        for row in df.itertuples():\n",
    "            # check only required dates\n",
    "            if media_name == 'deadline' or media_name == 'variety':\n",
    "                str_date = getattr(row, 'published_at')\n",
    "            elif media_name == 'hollywood_reporter':\n",
    "                str_date = getattr(row, 'date')\n",
    "            try:\n",
    "                if not valid_date(str_date):\n",
    "                    pbar_outer.update(1)\n",
    "                    continue\n",
    "            except:\n",
    "                print(row)\n",
    "                pbar_outer.update(1)\n",
    "                continue\n",
    "            \n",
    "            # go through text to find directors\n",
    "            month = parse_date(str_date)\n",
    "            text_path = getattr(row, 'text_path')\n",
    "            for line in open(f'../../modified_dfs/{text_path}'):\n",
    "                # look up male names\n",
    "                for name in find_in(line, male_names):\n",
    "                    if month in males:\n",
    "                        if name in males[month]:\n",
    "                            males[month][name].append(text_path)                                 \n",
    "                        else:\n",
    "                            males[month][name] = [text_path]\n",
    "                    else:\n",
    "                        males[month] = {name : [text_path]}\n",
    "                # look up female names        \n",
    "                for name in find_in(line, female_names):\n",
    "                    if month in females:\n",
    "                        if name in females[month]:\n",
    "                            females[month][name].append(text_path)                                                             \n",
    "                        else:\n",
    "                            females[month][name] = [text_path]\n",
    "                    else:\n",
    "                        females[month] = {name : [text_path]}    \n",
    "            pbar_outer.update(1)\n",
    "    return males, females            \n",
    "\n",
    "males, females = process(df, male_names, female_names)\n",
    "'''"
   ]
  },
  {
   "cell_type": "code",
   "execution_count": 114,
   "metadata": {},
   "outputs": [],
   "source": [
    "path = '../data/director_mentions'\n",
    "female_path = f'{path}/female_mention_backup_{media_name}_20190707.txt'\n",
    "male_path = f'{path}/male_mention_backup_{media_name}_20190707.txt'"
   ]
  },
  {
   "cell_type": "code",
   "execution_count": 115,
   "metadata": {},
   "outputs": [
    {
     "data": {
      "text/plain": [
       "\"\\nwith open(female_path, 'w') as f_out:\\n    for mnth, dct in females.items():    \\n        for name, articles in dct.items():\\n            res = str(mnth) + ' ' + name + ' '\\n            for item in articles:\\n                res += item + ' '\\n            res += '\\n'   \\n            f_out.write(res)\\n            \\nwith open(male_path, 'w') as f_out:\\n    for mnth, dct in males.items():    \\n        for name, articles in dct.items():\\n            res = str(mnth) + ' ' + name + ' '\\n            for item in articles:\\n                res += item + ' '\\n            res += '\\n'   \\n            f_out.write(res)            \\n\""
      ]
     },
     "execution_count": 115,
     "metadata": {},
     "output_type": "execute_result"
    }
   ],
   "source": [
    "'''\n",
    "with open(female_path, 'w') as f_out:\n",
    "    for mnth, dct in females.items():    \n",
    "        for name, articles in dct.items():\n",
    "            res = str(mnth) + ' ' + name + ' '\n",
    "            for item in articles:\n",
    "                res += item + ' '\n",
    "            res += '\\n'   \n",
    "            f_out.write(res)\n",
    "            \n",
    "with open(male_path, 'w') as f_out:\n",
    "    for mnth, dct in males.items():    \n",
    "        for name, articles in dct.items():\n",
    "            res = str(mnth) + ' ' + name + ' '\n",
    "            for item in articles:\n",
    "                res += item + ' '\n",
    "            res += '\\n'   \n",
    "            f_out.write(res)            \n",
    "'''"
   ]
  },
  {
   "cell_type": "code",
   "execution_count": 116,
   "metadata": {},
   "outputs": [
    {
     "data": {
      "text/plain": [
       "'Pedro Almodovar'"
      ]
     },
     "execution_count": 116,
     "metadata": {},
     "output_type": "execute_result"
    }
   ],
   "source": [
    "import string\n",
    "\n",
    "alphabet_lower = string.ascii_lowercase + \" -\"\n",
    "alphabet_full = string.ascii_uppercase + alphabet_lower\n",
    "\n",
    "converter = {'á' : 'a',\n",
    "             'ã' : 'a',\n",
    "             'ä' : 'a',\n",
    "             'ç' : 'c',\n",
    "             'è' : 'e',\n",
    "             'ě' : 'e',                         \n",
    "             'é' : 'e',\n",
    "             'ë' : 'e',\n",
    "             'ę' : 'e',\n",
    "             'í' : 'i',\n",
    "             'ï' : 'i',\n",
    "             'ñ' : 'n',\n",
    "             'ó' : 'o',\n",
    "             'ö' : 'o',\n",
    "             'ø' : 'o',\n",
    "             'ú' : 'u',\n",
    "             'ü' : 'u',\n",
    "             'ý' : 'y',\n",
    "             'ć' : 'c',\n",
    "             'ı' : 'i',\n",
    "             'ł' : 'l',\n",
    "             'ń' : 'n',\n",
    "             'ň' : 'n',\n",
    "             'ō' : 'o',\n",
    "             'ô' : 'o',             \n",
    "             'ś' : 's',\n",
    "             'š' : 's',\n",
    "             'ū' : 'u',\n",
    "             'ž' : 'z',             \n",
    "             'ż' : 'z',\n",
    "             'É' : 'E',\n",
    "             'Š' : 'S',             \n",
    "             'Ž' : 'Z',\n",
    "             'Ż' : 'Z'}\n",
    "\n",
    "def contain_not_ascii(string):\n",
    "    for ch in string:\n",
    "        if ch not in alphabet_full:\n",
    "            return True\n",
    "    return False    \n",
    "\n",
    "def convert_to_ascii(string):\n",
    "    res = \"\"\n",
    "    for ch in string:\n",
    "        if ch not in alphabet_full:\n",
    "            if ch in converter:\n",
    "                ch = converter[ch]\n",
    "            else:\n",
    "                print(ch)\n",
    "        res += ch\n",
    "    return res    \n",
    "    \n",
    "convert_to_ascii(\"Pedro Almodóvar\") "
   ]
  },
  {
   "cell_type": "code",
   "execution_count": 117,
   "metadata": {},
   "outputs": [],
   "source": [
    "## load from disk and process\n",
    "\n",
    "def stats(path, directors_top_slice_percent=0, verbose=False):\n",
    "    dct = dict()    \n",
    "    # construct dict from saved data\n",
    "    for line in open(path, 'r'):    \n",
    "        lst = line.split()                \n",
    "        \n",
    "        # parse date\n",
    "        i = 0\n",
    "        date = (lst[i][1:][:-1], lst[i+1][:-1])                        \n",
    "        i = i + 2            \n",
    "        \n",
    "        # parse director`s name\n",
    "        name = ''\n",
    "        while lst[i][:len(media_name)] != media_name:\n",
    "            if name != '':\n",
    "                name += ' '\n",
    "            name += lst[i]\n",
    "            i = i + 1        \n",
    "\n",
    "        # parse mentions\n",
    "        mentions = set(lst[i:])\n",
    "        mentions = len(mentions)\n",
    "    \n",
    "        # fill dict\n",
    "        if date in dct:\n",
    "            dct[date][name] = mentions\n",
    "        else:\n",
    "            dct[date] = {name : mentions}\n",
    "    #####################################            \n",
    "        \n",
    "    # Calculate sorted dates (year, month) (x axis)\n",
    "    dates = []\n",
    "    for key, value in dct.items():\n",
    "        dates.append(key)\n",
    "    dates.sort()\n",
    "    if verbose:\n",
    "        print(\"x(dates):\", dates)\n",
    "        print('\\n')    \n",
    "            \n",
    "    # Calculate dict {name : fame}, where fame is number of mentions\n",
    "    director_fame = dict()\n",
    "    for x in dates:\n",
    "        for name, value in dct[x].items():\n",
    "            name = convert_to_ascii(name)\n",
    "            if name in director_fame:\n",
    "                director_fame[name] += value\n",
    "            else:\n",
    "                director_fame[name] = value\n",
    "\n",
    "    # Calculate directors list sorted by fame\n",
    "    fame = []            \n",
    "    for name, score in director_fame.items():\n",
    "        fame.append((score, name))\n",
    "    fame = sorted(fame, key=lambda x: (-x[0], x[1]))\n",
    "    if verbose:\n",
    "        for x in fame:\n",
    "            print(x)\n",
    "        print('\\n')\n",
    "        \n",
    "    # Calculate ignore list -- percentage of top directors who are ignored\n",
    "    slice_size = (int) (directors_top_slice_percent * len(fame) / 100.)\n",
    "    ignore_list = set([x[1] for x in fame[:slice_size]])\n",
    "    if verbose:\n",
    "        print(\"ignore list:\", ignore_list)\n",
    "        print('\\n')\n",
    "        \n",
    "    # Calculate mentions(x) -- number of articles per month\n",
    "    mentions = []\n",
    "    for x in dates:\n",
    "        total_x = 0\n",
    "        for key, value in dct[x].items():\n",
    "            if key not in ignore_list:                \n",
    "                total_x += value\n",
    "        mentions.append(total_x)\n",
    "    if verbose:    \n",
    "        print(\"y(mentions):\", mentions)\n",
    "        print('\\n')    \n",
    "        \n",
    "    return dates, mentions, fame"
   ]
  },
  {
   "cell_type": "code",
   "execution_count": 118,
   "metadata": {},
   "outputs": [],
   "source": [
    "dates, mentions, fame = stats(female_path)\n",
    "\n",
    "with open(f'{path}/female_mentions_per_month_{media_name}_20190707.txt', 'w') as f_out:\n",
    "    for i in range(len(dates)):\n",
    "        f_out.write(str(dates[i][0]) + ' ' + str(dates[i][1]) + ' ' + str(mentions[i]) + '\\n')\n",
    "\n",
    "with open(f'{path}/female_fame_top_{media_name}_20190707.txt', 'w') as f_out:       \n",
    "    for p in fame:\n",
    "        f_out.write(str(p) + '\\n')"
   ]
  },
  {
   "cell_type": "code",
   "execution_count": 119,
   "metadata": {},
   "outputs": [],
   "source": [
    "dates, mentions, fame = stats(male_path)\n",
    "\n",
    "with open(f'{path}/male_mentions_per_month_{media_name}_20190707.txt', 'w') as f_out:\n",
    "    for i in range(len(dates)):\n",
    "        f_out.write(str(dates[i][0]) + ' ' + str(dates[i][1]) + ' ' + str(mentions[i]) + '\\n')\n",
    "\n",
    "with open(f'{path}/male_fame_top_{media_name}_20190707.txt', 'w') as f_out:       \n",
    "    for p in fame:\n",
    "        f_out.write(str(p) + '\\n')"
   ]
  },
  {
   "cell_type": "code",
   "execution_count": 120,
   "metadata": {},
   "outputs": [],
   "source": [
    "try:\n",
    "    os.mkdir(f'{path}/slice_data/')\n",
    "except:\n",
    "    pass\n",
    "\n",
    "for p in range(0, 11):\n",
    "    try:\n",
    "        os.mkdir(f'{path}/slice_data/{p}')\n",
    "    except:\n",
    "        pass\n",
    "    \n",
    "    dates, mentions, fame = stats(female_path, p)    \n",
    "    with open(f'{path}/slice_data/{p}/female_mentions_per_month_{media_name}_20190716.txt', 'w') as f_out:\n",
    "        for i in range(len(dates)):\n",
    "            f_out.write(str(dates[i][0]) + ' ' + str(dates[i][1]) + ' ' + str(mentions[i]) + '\\n')\n",
    "    \n",
    "    dates, mentions, fame = stats(male_path, p)    \n",
    "    with open(f'{path}/slice_data/{p}/male_mentions_per_month_{media_name}_20190716.txt', 'w') as f_out:\n",
    "        for i in range(len(dates)):\n",
    "            f_out.write(str(dates[i][0]) + ' ' + str(dates[i][1]) + ' ' + str(mentions[i]) + '\\n')        "
   ]
  },
  {
   "cell_type": "markdown",
   "metadata": {},
   "source": [
    "Some graphics:"
   ]
  },
  {
   "cell_type": "code",
   "execution_count": 121,
   "metadata": {},
   "outputs": [
    {
     "data": {
      "image/png": "[encoded data removed]",
      "text/plain": [
       "<Figure size 720x576 with 1 Axes>"
      ]
     },
     "metadata": {},
     "output_type": "display_data"
    },
    {
     "data": {
      "image/png": "[encoded data removed]",
      "text/plain": [
       "<Figure size 720x576 with 1 Axes>"
      ]
     },
     "metadata": {},
     "output_type": "display_data"
    },
    {
     "data": {
      "image/png": "[encoded data removed]",
      "text/plain": [
       "<Figure size 720x576 with 1 Axes>"
      ]
     },
     "metadata": {},
     "output_type": "display_data"
    }
   ],
   "source": [
    "from math import floor\n",
    "from itertools import groupby\n",
    "import matplotlib.pyplot as plt\n",
    "import seaborn as sns\n",
    "sns.set_style(\"ticks\")\n",
    "\n",
    "def get_articles_per_years(media_name):\n",
    "    # load df\n",
    "    path = f\"../data/full_{media_name}_df.csv\"\n",
    "    df = pd.read_csv(path)\n",
    "    df = df.drop(df.columns[0], axis=1)    \n",
    "    \n",
    "    # process dates\n",
    "    if media_name == 'deadline' or media_name == 'variety':\n",
    "        dates = df['published_at']\n",
    "    elif media_name == 'hollywood_reporter':\n",
    "        dates = df['date']    \n",
    "    dates = dates.apply(lambda x: str(x)[:4]).tolist()\n",
    "    dates = [int(x) for x in dates if x != 'nan' and int(x) >= 2010 and int(x) <= 2018]\n",
    "    dates.sort()\n",
    "    \n",
    "    # return (year, count) dict\n",
    "    return {key: len(list(group)) for key, group in groupby(dates)}\n",
    "\n",
    "def plt_dct(media_name, subplot_args):\n",
    "    plt.figure(figsize=(10,8))\n",
    "    plt.subplot(subplot_args[0], subplot_args[1], subplot_args[2])\n",
    "    dct = get_articles_per_years(media_name)\n",
    "    sns.lineplot(x = list(dct.keys()), y = list(dct.values()), color = 'green')    \n",
    "    plt.yticks(range(min(dct.values())//1000*1000, max(dct.values())+1000, 1000))\n",
    "    plt.xticks(list(dct.keys()))\n",
    "    plt.xticks(rotation=65)\n",
    "    plt.title(f'{media_name} articles per year')    \n",
    "    plt.tight_layout()\n",
    "\n",
    "plt_dct('deadline', (3, 1, 1))\n",
    "plt_dct('hollywood_reporter', (3,1,2))\n",
    "plt_dct('variety', (3,1,3))\n",
    "plt.show()"
   ]
  },
  {
   "cell_type": "code",
   "execution_count": null,
   "metadata": {},
   "outputs": [],
   "source": []
  },
  {
   "cell_type": "code",
   "execution_count": null,
   "metadata": {},
   "outputs": [],
   "source": []
  }
 ],
 "metadata": {
  "kernelspec": {
   "display_name": "Python 3",
   "language": "python",
   "name": "python3"
  },
  "language_info": {
   "codemirror_mode": {
    "name": "ipython",
    "version": 3
   },
   "file_extension": ".py",
   "mimetype": "text/x-python",
   "name": "python",
   "nbconvert_exporter": "python",
   "pygments_lexer": "ipython3",
   "version": "3.7.1"
  }
 },
 "nbformat": 4,
 "nbformat_minor": 2
}
