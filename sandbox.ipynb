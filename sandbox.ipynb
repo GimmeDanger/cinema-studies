{
 "cells": [
  {
   "cell_type": "code",
   "execution_count": 1,
   "metadata": {},
   "outputs": [],
   "source": [
    "#Notebook for experiments in gathering data from https://deadline.com/, etc"
   ]
  },
  {
   "cell_type": "code",
   "execution_count": 2,
   "metadata": {},
   "outputs": [],
   "source": [
    "import re\n",
    "import requests\n",
    "from utils import parse_tools"
   ]
  },
  {
   "cell_type": "code",
   "execution_count": 3,
   "metadata": {},
   "outputs": [],
   "source": [
    "class DeadlineParseFormat:\n",
    "    host_name = \"https://deadline.com\"\n",
    "    min_page_num = 1\n",
    "    max_page_num = 100000 #inf    \n",
    "    def hay_page_URL(self, page_num):\n",
    "        return f\"{self.host_name}/v/film/page/{page_num}\"\n",
    "    def needle_URL_regexp(self):\n",
    "        return f\"^{self.host_name}/\\d*/\\d*/[-\\w]*\""
   ]
  },
  {
   "cell_type": "code",
   "execution_count": 4,
   "metadata": {},
   "outputs": [],
   "source": [
    "site_format = DeadlineParseFormat()"
   ]
  },
  {
   "cell_type": "code",
   "execution_count": null,
   "metadata": {},
   "outputs": [],
   "source": [
    "urls = set()\n",
    "hay_url = site_format.hay_page_URL(page_num=2)\n",
    "response = requests.get(hay_url)"
   ]
  },
  {
   "cell_type": "code",
   "execution_count": null,
   "metadata": {},
   "outputs": [],
   "source": [
    "urls = set()            \n",
    "needle_pattern = site_format.needle_URL_regexp()\n",
    "parse_tools.gather_page_urls(response.text, needle_pattern, urls)            "
   ]
  },
  {
   "cell_type": "code",
   "execution_count": null,
   "metadata": {},
   "outputs": [],
   "source": [
    "result = re.match(needle_pattern, 'https://deadline.com/2019/04/deadline-relaunch-poll-redesign-1202592366/#comments')\n",
    "result[0]"
   ]
  },
  {
   "cell_type": "code",
   "execution_count": null,
   "metadata": {},
   "outputs": [],
   "source": [
    "print(len(urls))\n",
    "print(urls)"
   ]
  },
  {
   "cell_type": "code",
   "execution_count": null,
   "metadata": {},
   "outputs": [],
   "source": []
  }
 ],
 "metadata": {
  "kernelspec": {
   "display_name": "Python 3",
   "language": "python",
   "name": "python3"
  },
  "language_info": {
   "codemirror_mode": {
    "name": "ipython",
    "version": 3
   },
   "file_extension": ".py",
   "mimetype": "text/x-python",
   "name": "python",
   "nbconvert_exporter": "python",
   "pygments_lexer": "ipython3",
   "version": "3.7.1"
  }
 },
 "nbformat": 4,
 "nbformat_minor": 2
}
