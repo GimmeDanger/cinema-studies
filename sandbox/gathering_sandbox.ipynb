{
 "cells": [
  {
   "cell_type": "code",
   "execution_count": 0,
   "metadata": {
    "colab": {
     "base_uri": "https://localhost:8080/",
     "height": 35
    },
    "colab_type": "code",
    "executionInfo": {
     "elapsed": 8452,
     "status": "ok",
     "timestamp": 1553708352052,
     "user": {
      "displayName": "Vladimir Nazarov",
      "photoUrl": "",
      "userId": "06031800841793309312"
     },
     "user_tz": -180
    },
    "id": "315aXRk-NwVR",
    "outputId": "5078b8bd-2af3-448a-c445-3e52c230df5a"
   },
   "outputs": [
    {
     "name": "stdout",
     "output_type": "stream",
     "text": [
      "  Building wheel for twython (setup.py) ... \u001b[?25ldone\n",
      "\u001b[?25h"
     ]
    }
   ],
   "source": [
    "!pip install -q twython"
   ]
  },
  {
   "cell_type": "code",
   "execution_count": 0,
   "metadata": {
    "colab": {},
    "colab_type": "code",
    "id": "6sSCUEG6nmpe"
   },
   "outputs": [],
   "source": [
    "import pandas as pd\n",
    "import numpy as np\n",
    "import pylab as pl\n",
    "import requests\n",
    "import datetime\n",
    "import dateutil\n",
    "import json\n",
    "import csv\n",
    "import os\n",
    "\n",
    "from twython import Twython"
   ]
  },
  {
   "cell_type": "code",
   "execution_count": 0,
   "metadata": {
    "colab": {},
    "colab_type": "code",
    "id": "0qiemLI6nplM"
   },
   "outputs": [],
   "source": [
    "#auth = (tokens.auth_login, tokens.auth_pswd)\n",
    "#response = requests.get(review_url)\n",
    "#print(response.text)\n",
    "#list_of_data_frames = read_html(response.text)\n",
    "#return list_of_data_frames[0]"
   ]
  },
  {
   "cell_type": "code",
   "execution_count": 0,
   "metadata": {
    "colab": {},
    "colab_type": "code",
    "id": "9R-m7Hbv_sYE"
   },
   "outputs": [],
   "source": [
    "thr_url = \"https://www.hollywoodreporter.com/topic/movie-reviews\"\n",
    "thr_review_url = \"https://www.hollywoodreporter.com/review/\"\n",
    "omdbapi_url = \"http://www.omdbapi.com/\"\n",
    "thr_twitter_uid = \"17446621\""
   ]
  },
  {
   "cell_type": "code",
   "execution_count": 0,
   "metadata": {
    "colab": {},
    "colab_type": "code",
    "id": "UY-e7njVPthJ"
   },
   "outputs": [],
   "source": [
    "# TODO: replace into file on disk: \n",
    "#https://stackabuse.com/accessing-the-twitter-api-with-python/\n",
    "credentials = {}  \n",
    "credentials['CONSUMER_KEY'] = \"RAhs7ThpKFL14Nb188tdkdLkX\"\n",
    "credentials['CONSUMER_SECRET'] = \"V7VaBOgAnOnEk0Q3v9A0MKygAYwJqboNtFfsURIP52Cp2ar2EX\"\n",
    "credentials['ACCESS_TOKEN'] = \"430060558-rBilaliqRUoDm9JHTeSsWUpM3BsCoDvtKhtul5On\"\n",
    "credentials['ACCESS_SECRET'] = \"iqHidUrd9tstB97CWx6fw1xg7gbeAd4QibrFcL9d5JflA\""
   ]
  },
  {
   "cell_type": "code",
   "execution_count": 0,
   "metadata": {
    "colab": {},
    "colab_type": "code",
    "id": "vvfTbWgvNdxF"
   },
   "outputs": [],
   "source": [
    "creds = credentials\n",
    "\n",
    "# Instantiate an object\n",
    "python_tweets = Twython(creds['CONSUMER_KEY'], creds['CONSUMER_SECRET'])"
   ]
  },
  {
   "cell_type": "code",
   "execution_count": 73,
   "metadata": {
    "colab": {
     "base_uri": "https://localhost:8080/",
     "height": 451
    },
    "colab_type": "code",
    "executionInfo": {
     "elapsed": 702,
     "status": "ok",
     "timestamp": 1553717727550,
     "user": {
      "displayName": "Vladimir Nazarov",
      "photoUrl": "",
      "userId": "06031800841793309312"
     },
     "user_tz": -180
    },
    "id": "M58HIeZyRkk_",
    "outputId": "10eb17cd-d65a-422c-c983-5793f28f100c"
   },
   "outputs": [
    {
     "data": {
      "text/plain": [
       "{'contributors': None,\n",
       " 'coordinates': None,\n",
       " 'created_at': 'Tue Sep 20 19:23:51 +0000 2016',\n",
       " 'entities': {'hashtags': [], 'symbols': [], 'urls': [], 'user_mentions': []},\n",
       " 'favorite_count': 0,\n",
       " 'favorited': False,\n",
       " 'geo': None,\n",
       " 'id': 778313745051377664,\n",
       " 'id_str': '778313745051377664',\n",
       " 'in_reply_to_screen_name': None,\n",
       " 'in_reply_to_status_id': None,\n",
       " 'in_reply_to_status_id_str': None,\n",
       " 'in_reply_to_user_id': None,\n",
       " 'in_reply_to_user_id_str': None,\n",
       " 'is_quote_status': False,\n",
       " 'lang': 'ru',\n",
       " 'place': None,\n",
       " 'retweet_count': 0,\n",
       " 'retweeted': False,\n",
       " 'source': '<a href=\"http://twitter.com\" rel=\"nofollow\">Twitter Web Client</a>',\n",
       " 'text': 'Сижу дома у подруги, она начинает печатать в гугле \"бородино\", а он, чувствуя ее пальцы, предлагает \"борщ\". Ну вы поняли. ( 1 сент. 2012 г.)',\n",
       " 'truncated': False,\n",
       " 'user': {'id': 430060558, 'id_str': '430060558'}}"
      ]
     },
     "execution_count": 73,
     "metadata": {
      "tags": []
     },
     "output_type": "execute_result"
    }
   ],
   "source": [
    "test_twitter_uid = 430060558\n",
    "\n",
    "test_tweets = python_tweets.get_user_timeline(user_id=test_twitter_uid,\n",
    "                                              max_id=None,\n",
    "                                              count=10,\n",
    "                                              trim_user=True,\n",
    "                                              exclude_replies=True,\n",
    "                                              include_rts=False)\n",
    "test_tweets[2]"
   ]
  },
  {
   "cell_type": "code",
   "execution_count": 0,
   "metadata": {
    "colab": {},
    "colab_type": "code",
    "id": "s3FZ3ay9OYeo"
   },
   "outputs": [],
   "source": [
    "#https://gist.github.com/emallson/9e56a99973b3091124cd\n",
    "\n",
    "thr_tweets = python_tweets.get_user_timeline(user_id=thr_twitter_uid,\n",
    "                                             tweet_mode='extended',\n",
    "                                             max_id=None,\n",
    "                                             count=200,\n",
    "                                             trim_user=True,\n",
    "                                             exclude_replies=True,                                              \n",
    "                                             include_rts=False)"
   ]
  },
  {
   "cell_type": "code",
   "execution_count": 71,
   "metadata": {
    "colab": {
     "base_uri": "https://localhost:8080/",
     "height": 1225
    },
    "colab_type": "code",
    "executionInfo": {
     "elapsed": 1018,
     "status": "ok",
     "timestamp": 1553712674284,
     "user": {
      "displayName": "Vladimir Nazarov",
      "photoUrl": "",
      "userId": "06031800841793309312"
     },
     "user_tz": -180
    },
    "id": "dKTRLgWlcpBp",
    "outputId": "5e7ca8a3-134b-489e-d3a6-e759d2248c89"
   },
   "outputs": [
    {
     "data": {
      "text/plain": [
       "{'contributors': None,\n",
       " 'coordinates': None,\n",
       " 'created_at': 'Wed Mar 27 18:35:08 +0000 2019',\n",
       " 'display_text_range': [0, 266],\n",
       " 'entities': {'hashtags': [],\n",
       "  'media': [{'display_url': 'pic.twitter.com/H8Jv6HkcJG',\n",
       "    'expanded_url': 'https://twitter.com/THR/status/1110973544119324673/photo/1',\n",
       "    'id': 1110973542609375233,\n",
       "    'id_str': '1110973542609375233',\n",
       "    'indices': [267, 290],\n",
       "    'media_url': 'http://pbs.twimg.com/media/D2r4jQIW0AEotf9.jpg',\n",
       "    'media_url_https': 'https://pbs.twimg.com/media/D2r4jQIW0AEotf9.jpg',\n",
       "    'sizes': {'large': {'h': 365, 'resize': 'fit', 'w': 648},\n",
       "     'medium': {'h': 365, 'resize': 'fit', 'w': 648},\n",
       "     'small': {'h': 365, 'resize': 'fit', 'w': 648},\n",
       "     'thumb': {'h': 150, 'resize': 'crop', 'w': 150}},\n",
       "    'type': 'photo',\n",
       "    'url': 'https://t.co/H8Jv6HkcJG'}],\n",
       "  'symbols': [],\n",
       "  'urls': [{'display_url': 'thr.cm/2VZLKQ',\n",
       "    'expanded_url': 'http://thr.cm/2VZLKQ',\n",
       "    'indices': [243, 266],\n",
       "    'url': 'https://t.co/QLmfLjoKir'}],\n",
       "  'user_mentions': [{'id': 47786101,\n",
       "    'id_str': '47786101',\n",
       "    'indices': [8, 23],\n",
       "    'name': 'Robert Downey Jr',\n",
       "    'screen_name': 'RobertDowneyJr'},\n",
       "   {'id': 580097412,\n",
       "    'id_str': '580097412',\n",
       "    'indices': [51, 62],\n",
       "    'name': 'Chris Evans',\n",
       "    'screen_name': 'ChrisEvans'}]},\n",
       " 'extended_entities': {'media': [{'display_url': 'pic.twitter.com/H8Jv6HkcJG',\n",
       "    'expanded_url': 'https://twitter.com/THR/status/1110973544119324673/photo/1',\n",
       "    'id': 1110973542609375233,\n",
       "    'id_str': '1110973542609375233',\n",
       "    'indices': [267, 290],\n",
       "    'media_url': 'http://pbs.twimg.com/media/D2r4jQIW0AEotf9.jpg',\n",
       "    'media_url_https': 'https://pbs.twimg.com/media/D2r4jQIW0AEotf9.jpg',\n",
       "    'sizes': {'large': {'h': 365, 'resize': 'fit', 'w': 648},\n",
       "     'medium': {'h': 365, 'resize': 'fit', 'w': 648},\n",
       "     'small': {'h': 365, 'resize': 'fit', 'w': 648},\n",
       "     'thumb': {'h': 150, 'resize': 'crop', 'w': 150}},\n",
       "    'type': 'photo',\n",
       "    'url': 'https://t.co/H8Jv6HkcJG'}]},\n",
       " 'favorite_count': 200,\n",
       " 'favorited': False,\n",
       " 'full_text': 'Co-star @RobertDowneyJr may be the world\\'s biggest @ChrisEvans fan: \"I\\'ve also seen him, over the last 10 years, go from being someone who had laughably real social anxiety to someone who has grown more and more comfortable in their own skin\" https://t.co/QLmfLjoKir https://t.co/H8Jv6HkcJG',\n",
       " 'geo': None,\n",
       " 'id': 1110973544119324673,\n",
       " 'id_str': '1110973544119324673',\n",
       " 'in_reply_to_screen_name': None,\n",
       " 'in_reply_to_status_id': None,\n",
       " 'in_reply_to_status_id_str': None,\n",
       " 'in_reply_to_user_id': None,\n",
       " 'in_reply_to_user_id_str': None,\n",
       " 'is_quote_status': False,\n",
       " 'lang': 'en',\n",
       " 'place': None,\n",
       " 'possibly_sensitive': False,\n",
       " 'retweet_count': 37,\n",
       " 'retweeted': False,\n",
       " 'source': '<a href=\"http://www.socialflow.com\" rel=\"nofollow\">SocialFlow</a>',\n",
       " 'truncated': False,\n",
       " 'user': {'id': 17446621, 'id_str': '17446621'}}"
      ]
     },
     "execution_count": 71,
     "metadata": {
      "tags": []
     },
     "output_type": "execute_result"
    }
   ],
   "source": [
    "thr_tweets[0]"
   ]
  },
  {
   "cell_type": "code",
   "execution_count": 0,
   "metadata": {
    "colab": {},
    "colab_type": "code",
    "id": "yKZy3J4UdZlJ"
   },
   "outputs": [],
   "source": []
  },
  {
   "cell_type": "code",
   "execution_count": 66,
   "metadata": {
    "colab": {
     "base_uri": "https://localhost:8080/",
     "height": 55
    },
    "colab_type": "code",
    "executionInfo": {
     "elapsed": 1052,
     "status": "ok",
     "timestamp": 1553712369636,
     "user": {
      "displayName": "Vladimir Nazarov",
      "photoUrl": "",
      "userId": "06031800841793309312"
     },
     "user_tz": -180
    },
    "id": "a140EzbJQYzV",
    "outputId": "c523453c-3eb5-490a-9c61-af71938757a6"
   },
   "outputs": [
    {
     "data": {
      "text/plain": [
       "'Co-star @RobertDowneyJr may be the world\\'s biggest @ChrisEvans fan: \"I\\'ve also seen him, over the last 10 years, go from being someone who had laughably real social anxiety to someone who has grown more and more comfortable in their own skin\" https://t.co/QLmfLjoKir https://t.co/H8Jv6HkcJG'"
      ]
     },
     "execution_count": 66,
     "metadata": {
      "tags": []
     },
     "output_type": "execute_result"
    }
   ],
   "source": [
    "tweet_text = thr_tweets[0]['full_text']\n",
    "tweet_text"
   ]
  },
  {
   "cell_type": "code",
   "execution_count": 69,
   "metadata": {
    "colab": {
     "base_uri": "https://localhost:8080/",
     "height": 35
    },
    "colab_type": "code",
    "executionInfo": {
     "elapsed": 678,
     "status": "ok",
     "timestamp": 1553712479821,
     "user": {
      "displayName": "Vladimir Nazarov",
      "photoUrl": "",
      "userId": "06031800841793309312"
     },
     "user_tz": -180
    },
    "id": "XUeGUKzdVQHJ",
    "outputId": "ae1acd1c-d7da-4b41-bed5-c20db856db51"
   },
   "outputs": [
    {
     "data": {
      "text/plain": [
       "'https://t.co/QLmfLjoKir'"
      ]
     },
     "execution_count": 69,
     "metadata": {
      "tags": []
     },
     "output_type": "execute_result"
    }
   ],
   "source": [
    "import re\n",
    "\n",
    "myString = tweet_text\n",
    "\n",
    "mentioned_url = re.search(\"(?P<url>https?://[^\\s]+)\", myString).group(\"url\")\n",
    "mentioned_url"
   ]
  },
  {
   "cell_type": "code",
   "execution_count": 0,
   "metadata": {
    "colab": {},
    "colab_type": "code",
    "id": "bqtENp_bVilA"
   },
   "outputs": [],
   "source": [
    "thr_news_search_url = \"https://www.hollywoodreporter.com/search/female%20directors?page=1&filters=type%3Anews+tid%3A59\"\n",
    "variety_url = \"https://variety.com/v/film/reviews/page/1000/\"\n",
    "response = requests.get(variety_url)"
   ]
  },
  {
   "cell_type": "code",
   "execution_count": 0,
   "metadata": {
    "colab": {},
    "colab_type": "code",
    "id": "ssA5KL6Z3lQd"
   },
   "outputs": [],
   "source": [
    "html_page_text = response.text\n",
    "#print(html_page_text)"
   ]
  },
  {
   "cell_type": "code",
   "execution_count": 0,
   "metadata": {
    "colab": {},
    "colab_type": "code",
    "id": "wu_4GCsOzBl2"
   },
   "outputs": [],
   "source": [
    "urls = re.findall('https?://(?:[-\\w.]|(?:%[\\da-fA-F]{2}))+', html_page_text)"
   ]
  },
  {
   "cell_type": "code",
   "execution_count": 85,
   "metadata": {
    "colab": {
     "base_uri": "https://localhost:8080/",
     "height": 55
    },
    "colab_type": "code",
    "executionInfo": {
     "elapsed": 728,
     "status": "ok",
     "timestamp": 1553719185760,
     "user": {
      "displayName": "Vladimir Nazarov",
      "photoUrl": "",
      "userId": "06031800841793309312"
     },
     "user_tz": -180
    },
    "id": "3hLYp8OF317A",
    "outputId": "ccad83b8-a8c9-431e-9ffa-3bac8cdbd905"
   },
   "outputs": [
    {
     "name": "stdout",
     "output_type": "stream",
     "text": [
      "['http://ogp.me', 'http://www.facebook.com', 'http://gmpg.org', 'https://variety.com', 'https://r-login.wordpress.com', 'https://variety.com', 'https://variety.com', 'https://variety.com', 'https://s0.wp.com', 'https://s1.wp.com', 'https://s2.wp.com', 'https://s2.wp.com', 'https://s1.wp.com', 'https://s2.wp.com', 'https://s0.wp.com', 'https://s2.wp.com', 'https://z.moatads.com', 'https://s0.wp.com', 'https://js-sec.indexww.com', 'https://s0.wp.com', 'https://pmcvariety.wordpress.com', 'https://pmcvariety.wordpress.com', 'https://variety.com', 'https://s1.wp.com', 'https://tagan.adlightning.com', 'https://tagan.adlightning.com', 'https://tagan.adlightning.com', 'https://variety.com', 'https://variety.com', 'https://variety.com', 'https://variety.com', 'https://pmcvariety.files.wordpress.com', 'https://s3.amazonaws.com', 'https://js-sec.indexww.com', 'https://pmcvariety.files.wordpress.com', 'https://pmcvariety.files.wordpress.com', 'https://pmcvariety.files.wordpress.com', 'https://pmcvariety.files.wordpress.com', 'https://s2.wp.com', 'https://pmcvariety.wordpress.com', 'https://www.youtube.com', 'https://cdn.speedcurve.com', 'http://b.scorecardresearch.com', 'https://secure', 'http://edge', 'https://www.googletagmanager.com', 'https://www.googletagmanager.com', 'https://variety.com', 'https://variety.com', 'https://variety.com', 'https://www.instagram.com', 'https://twitter.com', 'https://www.youtube.com', 'https://www.facebook.com', 'https://variety.com', 'https://variety.com', 'https://variety.com', 'https://variety.com', 'https://variety.com', 'https://variety.com', 'https://variety.com', 'https://variety.com', 'https://variety.com', 'https://variety.com', 'http://www.w3.org', 'https://variety.com', 'https://variety.com', 'http://schema.org', 'https://schema.org', 'https://pmcvariety.files.wordpress.com', 'https://variety.com', 'https://pmcvariety.files.wordpress.com', 'https://variety.com', 'https://variety.com', 'http://schema.org', 'https://schema.org', 'https://pmcvariety.files.wordpress.com', 'https://variety.com', 'https://pmcvariety.files.wordpress.com', 'https://variety.com', 'https://variety.com', 'http://schema.org', 'https://schema.org', 'https://pmcvariety.files.wordpress.com', 'https://variety.com', 'https://pmcvariety.files.wordpress.com', 'https://variety.com', 'https://variety.com', 'http://schema.org', 'https://schema.org', 'https://pmcvariety.files.wordpress.com', 'https://variety.com', 'https://pmcvariety.files.wordpress.com', 'https://variety.com', 'https://variety.com', 'http://schema.org', 'https://schema.org', 'https://pmcvariety.files.wordpress.com', 'https://variety.com', 'https://pmcvariety.files.wordpress.com', 'https://variety.com', 'https://variety.com', 'http://schema.org', 'https://schema.org', 'https://pmcvariety.files.wordpress.com', 'https://variety.com', 'https://pmcvariety.files.wordpress.com', 'https://variety.com', 'https://variety.com', 'http://schema.org', 'https://schema.org', 'https://pmcvariety.files.wordpress.com', 'https://variety.com', 'https://pmcvariety.files.wordpress.com', 'https://variety.com', 'https://variety.com', 'http://schema.org', 'https://schema.org', 'https://pmcvariety.files.wordpress.com', 'https://variety.com', 'https://pmcvariety.files.wordpress.com', 'https://variety.com', 'https://variety.com', 'http://schema.org', 'https://schema.org', 'https://pmcvariety.files.wordpress.com', 'https://variety.com', 'https://pmcvariety.files.wordpress.com', 'https://variety.com', 'https://variety.com', 'http://schema.org', 'https://schema.org', 'https://pmcvariety.files.wordpress.com', 'https://variety.com', 'https://pmcvariety.files.wordpress.com', 'https://variety.com', 'https://variety.com', 'http://schema.org', 'https://schema.org', 'https://pmcvariety.files.wordpress.com', 'https://variety.com', 'https://pmcvariety.files.wordpress.com', 'https://variety.com', 'https://variety.com', 'http://schema.org', 'https://schema.org', 'https://pmcvariety.files.wordpress.com', 'https://variety.com', 'https://pmcvariety.files.wordpress.com', 'https://variety.com', 'https://variety.com', 'http://schema.org', 'https://schema.org', 'https://pmcvariety.files.wordpress.com', 'https://variety.com', 'https://pmcvariety.files.wordpress.com', 'https://variety.com', 'https://variety.com', 'https://variety.com', 'https://variety.com', 'http://schema.org', 'https://schema.org', 'https://pmcvariety.files.wordpress.com', 'https://variety.com', 'https://pmcvariety.files.wordpress.com', 'https://variety.com', 'http://schema.org', 'https://schema.org', 'https://pmcvariety.files.wordpress.com', 'https://variety.com', 'https://pmcvariety.files.wordpress.com', 'https://variety.com', 'http://schema.org', 'https://schema.org', 'https://pmcvariety.files.wordpress.com', 'https://variety.com', 'https://pmcvariety.files.wordpress.com', 'https://variety.com', 'http://schema.org', 'https://schema.org', 'https://pmcvariety.files.wordpress.com', 'https://variety.com', 'https://pmcvariety.files.wordpress.com', 'https://variety.com', 'https://variety.com', 'http://schema.org', 'http://schema.org', 'https://pmcvariety.files.wordpress.com', 'https://variety.com', 'https://pmcvariety.files.wordpress.com', 'https://variety.com', 'https://variety.com', 'http://schema.org', 'https://schema.org', 'https://pmcvariety.files.wordpress.com', 'https://variety.com', 'https://pmcvariety.files.wordpress.com', 'https://variety.com', 'https://variety.com', 'https://pages.email.variety.com', 'https://pages.email.variety.com', 'https://variety.com', 'http://schema.org', 'http://schema.org', 'https://i1.wp.com', 'https://www.indiewire.com', 'https://i1.wp.com', 'https://indiewire.com', 'https://www.indiewire.com', 'http://schema.org', 'http://schema.org', 'https://pmchollywoodlife.files.wordpress.com', 'https://hollywoodlife.com', 'https://pmchollywoodlife.files.wordpress.com', 'https://hollywoodlife.com', 'https://hollywoodlife.com', 'http://schema.org', 'http://schema.org', 'https://boygeniusreport.files.wordpress.com', 'https://bgr.com', 'https://boygeniusreport.files.wordpress.com', 'https://bgr.com', 'https://bgr.com', 'http://schema.org', 'http://schema.org', 'https://pmcwwd.files.wordpress.com', 'https://wwd.com', 'https://pmcwwd.files.wordpress.com', 'https://wwd.com', 'https://wwd.com', 'http://schema.org', 'http://schema.org', 'https://pmcspy.files.wordpress.com', 'https://spy.com', 'https://pmcspy.files.wordpress.com', 'https://spy.com', 'https://spy.com', 'http://careers.variety.com', 'http://www.varietyscreeningseries.com', 'https://www.varietyinsight.com', 'http://www.vscore.com', 'https://events.variety.com', 'http://pmc.com', 'http://pmc.com', 'http://pmc.com', 'https://pmc.com', 'https://variety.com', 'http://varietyultimate.com', 'https://www.instagram.com', 'https://twitter.com', 'https://www.youtube.com', 'https://www.facebook.com', 'https://variety.com', 'https://vip.wordpress.com', 'https://variety.com', 'https://variety.com', 'https://variety.com', 'https://variety.com', 'https://variety.com', 'https://variety.com', 'https://variety.com', 'https://variety.com', 'https://variety.com', 'https://variety.com', 'https://variety.com', 'https://variety.com', 'https://variety.com', 'https://events.variety.com', 'http://www.vscore.com', 'https://www.varietyinsight.com', 'http://www.varietyultimate.com', 'http://www.w3.org', 'http://www.w3.org', 'http://www.w3.org', 'http://www.w3.org', 'http://www.bohemiancoding.com', 'https://variety.com', 'https://variety.com', 'https://www.instagram.com', 'https://twitter.com', 'https://www.youtube.com', 'https://www.facebook.com', 'https://pages.email.variety.com', 'https://pages.email.variety.com', 'https://pmc.com', 'https://s1.wp.com', 'https://s3.amazonaws.com', 'https://s1.wp.com', 'https://s.swiftypecdn.com', 'https://s1.wp.com', 'https://s0.wp.com', 'https://cdn.roiq.ranker.com', 'https://s1.wp.com', 'https://pixel.wp.com', 'https://pixel.wp.com', 'https://sb', 'http://b', 'https://load.instinctiveads.com', 'https://www.lightboxcdn.com', 'https://s.skimresources.com']\n"
     ]
    }
   ],
   "source": [
    "print(urls)"
   ]
  },
  {
   "cell_type": "code",
   "execution_count": 0,
   "metadata": {
    "colab": {},
    "colab_type": "code",
    "id": "qTJBFE4F6IuS"
   },
   "outputs": [],
   "source": [
    "!pip install -q beautifulsoup4"
   ]
  },
  {
   "cell_type": "code",
   "execution_count": 0,
   "metadata": {
    "colab": {},
    "colab_type": "code",
    "id": "lmxUWuIY4U4j"
   },
   "outputs": [],
   "source": [
    "from bs4 import BeautifulSoup"
   ]
  },
  {
   "cell_type": "code",
   "execution_count": 0,
   "metadata": {
    "colab": {},
    "colab_type": "code",
    "id": "XJFe9slH48a1"
   },
   "outputs": [],
   "source": [
    "#html_page = urllib2.urlopen(variety_url)\n",
    "urls = set()\n",
    "soup = BeautifulSoup(response.text)\n",
    "for link in soup.findAll('a', attrs={'href': re.compile(\"^https://variety.com/20\\d\\d/film/reviews/\")}):\n",
    "    urls.add(link.get('href'))  "
   ]
  },
  {
   "cell_type": "code",
   "execution_count": 129,
   "metadata": {
    "colab": {
     "base_uri": "https://localhost:8080/",
     "height": 251
    },
    "colab_type": "code",
    "executionInfo": {
     "elapsed": 721,
     "status": "ok",
     "timestamp": 1553720462106,
     "user": {
      "displayName": "Vladimir Nazarov",
      "photoUrl": "",
      "userId": "06031800841793309312"
     },
     "user_tz": -180
    },
    "id": "xTAy4Am57Acw",
    "outputId": "71a6f575-896d-4d6b-a45c-ec3487d9a18e"
   },
   "outputs": [
    {
     "name": "stdout",
     "output_type": "stream",
     "text": [
      "https://variety.com/2009/film/reviews/the-butterfly-effect-3-revelation-1200473340/\n",
      "https://variety.com/2009/film/reviews/ong-bak-2-1200473346/\n",
      "https://variety.com/2009/film/reviews/my-bloody-valentine-2-1200473300/\n",
      "https://variety.com/2009/film/reviews/paul-blart-mall-cop-1200473334/\n",
      "https://variety.com/2009/film/reviews/voices-3-1200473304/\n",
      "https://variety.com/2009/film/reviews/chandni-chowk-to-china-1200473324/\n",
      "https://variety.com/2009/film/reviews/alien-trespass-1200473348/\n",
      "https://variety.com/2009/film/reviews/mary-and-max-1200473302/\n",
      "https://variety.com/2009/film/reviews/the-killing-room-1200473292/\n",
      "https://variety.com/2009/film/reviews/autopsy-1200473352/\n",
      "https://variety.com/2009/film/reviews/the-sublet-1200473298/\n",
      "https://variety.com/2009/film/reviews/slaughter-1200473357/\n",
      "https://variety.com/2009/film/reviews/untitled-1200473330/\n"
     ]
    }
   ],
   "source": [
    "for url in urls:\n",
    "  print(url)"
   ]
  },
  {
   "cell_type": "code",
   "execution_count": 0,
   "metadata": {
    "colab": {},
    "colab_type": "code",
    "id": "6XPn-WrB833B"
   },
   "outputs": [],
   "source": []
  }
 ],
 "metadata": {
  "colab": {
   "collapsed_sections": [],
   "name": "gathering_sandbox.ipynb",
   "provenance": [],
   "version": "0.3.2"
  },
  "kernelspec": {
   "display_name": "Python 3",
   "language": "python",
   "name": "python3"
  },
  "language_info": {
   "codemirror_mode": {
    "name": "ipython",
    "version": 3
   },
   "file_extension": ".py",
   "mimetype": "text/x-python",
   "name": "python",
   "nbconvert_exporter": "python",
   "pygments_lexer": "ipython3",
   "version": "3.7.1"
  }
 },
 "nbformat": 4,
 "nbformat_minor": 1
}
