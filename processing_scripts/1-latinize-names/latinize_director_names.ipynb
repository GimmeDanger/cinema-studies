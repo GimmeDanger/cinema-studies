{
 "cells": [
  {
   "cell_type": "code",
   "execution_count": 1,
   "metadata": {},
   "outputs": [],
   "source": [
    "#Notebook for experiments in gathering data"
   ]
  },
  {
   "cell_type": "code",
   "execution_count": 1,
   "metadata": {},
   "outputs": [],
   "source": [
    "import os\n",
    "import re\n",
    "import csv\n",
    "import requests\n",
    "import warnings\n",
    "import pandas as pd\n",
    "from bs4 import BeautifulSoup\n",
    "from tqdm import tqdm, tqdm_notebook\n",
    "#warnings.filterwarnings('ignore')"
   ]
  },
  {
   "cell_type": "code",
   "execution_count": 64,
   "metadata": {},
   "outputs": [
    {
     "data": {
      "text/plain": [
       "'Pedro Almodovar'"
      ]
     },
     "execution_count": 64,
     "metadata": {},
     "output_type": "execute_result"
    }
   ],
   "source": [
    "import string\n",
    "\n",
    "alphabet_lower = string.ascii_lowercase + \" -\"\n",
    "alphabet_full = string.ascii_uppercase + alphabet_lower\n",
    "\n",
    "converter = {'á' : 'a',\n",
    "             'ã' : 'a',\n",
    "             'ä' : 'a',\n",
    "             'ç' : 'c',\n",
    "             'è' : 'e',\n",
    "             'ě' : 'e',                         \n",
    "             'é' : 'e',\n",
    "             'ë' : 'e',\n",
    "             'ę' : 'e',\n",
    "             'í' : 'i',\n",
    "             'ï' : 'i',\n",
    "             'ñ' : 'n',\n",
    "             'ó' : 'o',\n",
    "             'ö' : 'o',\n",
    "             'ø' : 'o',\n",
    "             'ú' : 'u',\n",
    "             'ü' : 'u',\n",
    "             'ý' : 'y',\n",
    "             'ć' : 'c',\n",
    "             'ı' : 'i',\n",
    "             'ł' : 'l',\n",
    "             'ń' : 'n',\n",
    "             'ň' : 'n',\n",
    "             'ō' : 'o',\n",
    "             'ô' : 'o',             \n",
    "             'ś' : 's',\n",
    "             'š' : 's',\n",
    "             'ū' : 'u',\n",
    "             'ž' : 'z',             \n",
    "             'ż' : 'z',\n",
    "             'É' : 'E',\n",
    "             'Š' : 'S',             \n",
    "             'Ž' : 'Z',\n",
    "             'Ż' : 'Z'}\n",
    "\n",
    "def contain_not_ascii(string):\n",
    "    for ch in string:\n",
    "        if ch not in alphabet_full:\n",
    "            return True\n",
    "    return False    \n",
    "\n",
    "def convert_to_ascii(string):\n",
    "    res = \"\"\n",
    "    for ch in string:\n",
    "        if ch not in alphabet_full:\n",
    "            if ch in converter:\n",
    "                ch = converter[ch]\n",
    "            else:\n",
    "                print(ch)\n",
    "        res += ch\n",
    "    return res    \n",
    "    \n",
    "convert_to_ascii(\"Pedro Almodóvar\")    "
   ]
  },
  {
   "cell_type": "code",
   "execution_count": 68,
   "metadata": {},
   "outputs": [
    {
     "name": "stdout",
     "output_type": "stream",
     "text": [
      "1774\n"
     ]
    },
    {
     "data": {
      "text/html": [
       "<div>\n",
       "<style scoped>\n",
       "    .dataframe tbody tr th:only-of-type {\n",
       "        vertical-align: middle;\n",
       "    }\n",
       "\n",
       "    .dataframe tbody tr th {\n",
       "        vertical-align: top;\n",
       "    }\n",
       "\n",
       "    .dataframe thead th {\n",
       "        text-align: right;\n",
       "    }\n",
       "</style>\n",
       "<table border=\"1\" class=\"dataframe\">\n",
       "  <thead>\n",
       "    <tr style=\"text-align: right;\">\n",
       "      <th></th>\n",
       "      <th>name</th>\n",
       "      <th>wiki_url</th>\n",
       "    </tr>\n",
       "  </thead>\n",
       "  <tbody>\n",
       "    <tr>\n",
       "      <th>0</th>\n",
       "      <td>Dodo Abashidze</td>\n",
       "      <td>https://en.wikipedia.org/wiki/Dodo_Abashidze</td>\n",
       "    </tr>\n",
       "    <tr>\n",
       "      <th>1</th>\n",
       "      <td>George Abbott</td>\n",
       "      <td>https://en.wikipedia.org/wiki/George_Abbott</td>\n",
       "    </tr>\n",
       "    <tr>\n",
       "      <th>2</th>\n",
       "      <td>Jim Abrahams</td>\n",
       "      <td>https://en.wikipedia.org/wiki/Jim_Abrahams</td>\n",
       "    </tr>\n",
       "    <tr>\n",
       "      <th>3</th>\n",
       "      <td>Abiola Abrams</td>\n",
       "      <td>https://en.wikipedia.org/wiki/Abiola_Abrams</td>\n",
       "    </tr>\n",
       "    <tr>\n",
       "      <th>4</th>\n",
       "      <td>Ivan Abramson</td>\n",
       "      <td>https://en.wikipedia.org/wiki/Ivan_Abramson</td>\n",
       "    </tr>\n",
       "  </tbody>\n",
       "</table>\n",
       "</div>"
      ],
      "text/plain": [
       "             name                                      wiki_url\n",
       "0  Dodo Abashidze  https://en.wikipedia.org/wiki/Dodo_Abashidze\n",
       "1   George Abbott   https://en.wikipedia.org/wiki/George_Abbott\n",
       "2    Jim Abrahams    https://en.wikipedia.org/wiki/Jim_Abrahams\n",
       "3   Abiola Abrams   https://en.wikipedia.org/wiki/Abiola_Abrams\n",
       "4   Ivan Abramson   https://en.wikipedia.org/wiki/Ivan_Abramson"
      ]
     },
     "execution_count": 68,
     "metadata": {},
     "output_type": "execute_result"
    }
   ],
   "source": [
    "#gender = \"male\"\n",
    "#gender = \"female\"\n",
    "gender = \"all\"\n",
    "path = f\"../data/director_lists/wiki/{gender}_directors_wiki_20190505.csv\"\n",
    "df = pd.read_csv(path)\n",
    "print(len(df))\n",
    "df.head()"
   ]
  },
  {
   "cell_type": "code",
   "execution_count": 69,
   "metadata": {},
   "outputs": [
    {
     "name": "stdout",
     "output_type": "stream",
     "text": [
      "1888\n"
     ]
    }
   ],
   "source": [
    "for row in df.itertuples():\n",
    "    name = getattr(row, 'name')\n",
    "    wiki_url = getattr(row, 'wiki_url')\n",
    "    if contain_not_ascii(name):\n",
    "        df.loc[df.index.max() + 1] = [convert_to_ascii(name), wiki_url]\n",
    "print(len(df))"
   ]
  },
  {
   "cell_type": "code",
   "execution_count": 70,
   "metadata": {},
   "outputs": [],
   "source": [
    "df.to_csv(f\"../data/director_lists/wiki/{gender}_directors_wiki_latinized_20190616.csv\", index=False)"
   ]
  },
  {
   "cell_type": "code",
   "execution_count": null,
   "metadata": {},
   "outputs": [],
   "source": []
  }
 ],
 "metadata": {
  "kernelspec": {
   "display_name": "Python 3",
   "language": "python",
   "name": "python3"
  },
  "language_info": {
   "codemirror_mode": {
    "name": "ipython",
    "version": 3
   },
   "file_extension": ".py",
   "mimetype": "text/x-python",
   "name": "python",
   "nbconvert_exporter": "python",
   "pygments_lexer": "ipython3",
   "version": "3.7.1"
  }
 },
 "nbformat": 4,
 "nbformat_minor": 2
}
