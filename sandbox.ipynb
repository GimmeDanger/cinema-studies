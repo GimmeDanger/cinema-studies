{
 "cells": [
  {
   "cell_type": "code",
   "execution_count": 1,
   "metadata": {},
   "outputs": [],
   "source": [
    "#Notebook for experiments in gathering data"
   ]
  },
  {
   "cell_type": "code",
   "execution_count": 1,
   "metadata": {},
   "outputs": [],
   "source": [
    "import os\n",
    "import re\n",
    "import csv\n",
    "import requests\n",
    "import warnings\n",
    "import pandas as pd\n",
    "from bs4 import BeautifulSoup\n",
    "from tqdm import tqdm, tqdm_notebook\n",
    "#warnings.filterwarnings('ignore')"
   ]
  },
  {
   "cell_type": "code",
   "execution_count": 71,
   "metadata": {},
   "outputs": [
    {
     "name": "stdout",
     "output_type": "stream",
     "text": [
      "1772 1036\n"
     ]
    }
   ],
   "source": [
    "male_directors_path = f\"./raw_data/director_lists/wiki/male_directors_wiki_latinized_20190616.csv\"\n",
    "female_directors_path = f\"./raw_data/director_lists/wiki/female_directors_wiki_latinized_20190616.csv\"\n",
    "male_directors_df = pd.read_csv(male_directors_path)\n",
    "female_directors_df = pd.read_csv(female_directors_path)\n",
    "print(len(male_directors_df), len(female_directors_df))"
   ]
  },
  {
   "cell_type": "code",
   "execution_count": 72,
   "metadata": {},
   "outputs": [],
   "source": [
    "male_names = male_directors_df.name\n",
    "female_names = female_directors_df.name"
   ]
  },
  {
   "cell_type": "code",
   "execution_count": 77,
   "metadata": {},
   "outputs": [
    {
     "data": {
      "text/html": [
       "<div>\n",
       "<style scoped>\n",
       "    .dataframe tbody tr th:only-of-type {\n",
       "        vertical-align: middle;\n",
       "    }\n",
       "\n",
       "    .dataframe tbody tr th {\n",
       "        vertical-align: top;\n",
       "    }\n",
       "\n",
       "    .dataframe thead th {\n",
       "        text-align: right;\n",
       "    }\n",
       "</style>\n",
       "<table border=\"1\" class=\"dataframe\">\n",
       "  <thead>\n",
       "    <tr style=\"text-align: right;\">\n",
       "      <th></th>\n",
       "      <th>media</th>\n",
       "      <th>article_url</th>\n",
       "      <th>text_path</th>\n",
       "      <th>category</th>\n",
       "      <th>content_type</th>\n",
       "      <th>topics</th>\n",
       "      <th>title</th>\n",
       "      <th>author</th>\n",
       "      <th>published_at</th>\n",
       "      <th>tags</th>\n",
       "    </tr>\n",
       "  </thead>\n",
       "  <tbody>\n",
       "    <tr>\n",
       "      <th>0</th>\n",
       "      <td>deadline</td>\n",
       "      <td>https://deadline.com/2019/01/4-percent-challen...</td>\n",
       "      <td>deadline/0.txt</td>\n",
       "      <td>film</td>\n",
       "      <td>Article</td>\n",
       "      <td>Film</td>\n",
       "      <td>Universal Commits To Time's Up's #4PercentChal...</td>\n",
       "      <td>Patrick Hipes</td>\n",
       "      <td>2019-01-29 14:07:49</td>\n",
       "      <td>#4PercentChallenge, Time's Up, Universal</td>\n",
       "    </tr>\n",
       "    <tr>\n",
       "      <th>1</th>\n",
       "      <td>deadline</td>\n",
       "      <td>https://deadline.com/2019/03/jared-harris-jare...</td>\n",
       "      <td>deadline/1.txt</td>\n",
       "      <td>film</td>\n",
       "      <td>Article</td>\n",
       "      <td>Film</td>\n",
       "      <td>Jared Harris Joins Jared Leto In Sony's 'Spide...</td>\n",
       "      <td>Amanda N'Duka</td>\n",
       "      <td>2019-03-04 16:28:50</td>\n",
       "      <td>Jared Harris, Morbius, Sony</td>\n",
       "    </tr>\n",
       "    <tr>\n",
       "      <th>2</th>\n",
       "      <td>deadline</td>\n",
       "      <td>https://deadline.com/2019/03/sky-tin-star-tim-...</td>\n",
       "      <td>deadline/2.txt</td>\n",
       "      <td>film</td>\n",
       "      <td>Article</td>\n",
       "      <td>Film, International, TV</td>\n",
       "      <td>Sky Orders Third Season Of 'Tin Star'; 42 Hire...</td>\n",
       "      <td>Andreas Wiseman</td>\n",
       "      <td>2019-03-20 04:09:15</td>\n",
       "      <td>42, Tim Roth, Tin Star</td>\n",
       "    </tr>\n",
       "    <tr>\n",
       "      <th>3</th>\n",
       "      <td>deadline</td>\n",
       "      <td>https://deadline.com/2019/02/jj-abrams-jedi-st...</td>\n",
       "      <td>deadline/3.txt</td>\n",
       "      <td>film</td>\n",
       "      <td>Article</td>\n",
       "      <td>Film, Hero Nation</td>\n",
       "      <td>'Star Wars IX': The Last Skywalker Film Wraps ...</td>\n",
       "      <td>Geoff Boucher</td>\n",
       "      <td>2019-02-15 12:56:07</td>\n",
       "      <td>Hero Nation, JJ Abrams, Lucasfilm, Star Wars</td>\n",
       "    </tr>\n",
       "    <tr>\n",
       "      <th>4</th>\n",
       "      <td>deadline</td>\n",
       "      <td>https://deadline.com/2019/03/june-harding-dies...</td>\n",
       "      <td>deadline/4.txt</td>\n",
       "      <td>film</td>\n",
       "      <td>Article</td>\n",
       "      <td>Film, TV</td>\n",
       "      <td>June Harding Dies: 'The Trouble With Angels' A...</td>\n",
       "      <td>Bruce Haring</td>\n",
       "      <td>2019-03-29 16:34:36</td>\n",
       "      <td>Hayley Mills, Ida Lupino, June Harding, Obitua...</td>\n",
       "    </tr>\n",
       "  </tbody>\n",
       "</table>\n",
       "</div>"
      ],
      "text/plain": [
       "      media                                        article_url  \\\n",
       "0  deadline  https://deadline.com/2019/01/4-percent-challen...   \n",
       "1  deadline  https://deadline.com/2019/03/jared-harris-jare...   \n",
       "2  deadline  https://deadline.com/2019/03/sky-tin-star-tim-...   \n",
       "3  deadline  https://deadline.com/2019/02/jj-abrams-jedi-st...   \n",
       "4  deadline  https://deadline.com/2019/03/june-harding-dies...   \n",
       "\n",
       "        text_path category content_type                   topics  \\\n",
       "0  deadline/0.txt     film      Article                     Film   \n",
       "1  deadline/1.txt     film      Article                     Film   \n",
       "2  deadline/2.txt     film      Article  Film, International, TV   \n",
       "3  deadline/3.txt     film      Article        Film, Hero Nation   \n",
       "4  deadline/4.txt     film      Article                 Film, TV   \n",
       "\n",
       "                                               title           author  \\\n",
       "0  Universal Commits To Time's Up's #4PercentChal...    Patrick Hipes   \n",
       "1  Jared Harris Joins Jared Leto In Sony's 'Spide...    Amanda N'Duka   \n",
       "2  Sky Orders Third Season Of 'Tin Star'; 42 Hire...  Andreas Wiseman   \n",
       "3  'Star Wars IX': The Last Skywalker Film Wraps ...    Geoff Boucher   \n",
       "4  June Harding Dies: 'The Trouble With Angels' A...     Bruce Haring   \n",
       "\n",
       "          published_at                                               tags  \n",
       "0  2019-01-29 14:07:49           #4PercentChallenge, Time's Up, Universal  \n",
       "1  2019-03-04 16:28:50                        Jared Harris, Morbius, Sony  \n",
       "2  2019-03-20 04:09:15                             42, Tim Roth, Tin Star  \n",
       "3  2019-02-15 12:56:07       Hero Nation, JJ Abrams, Lucasfilm, Star Wars  \n",
       "4  2019-03-29 16:34:36  Hayley Mills, Ida Lupino, June Harding, Obitua...  "
      ]
     },
     "execution_count": 77,
     "metadata": {},
     "output_type": "execute_result"
    }
   ],
   "source": [
    "path = f\"./raw_data/full_deadline_df.csv\"\n",
    "df = pd.read_csv(path)\n",
    "df = df.drop(df.columns[0], axis=1)\n",
    "df.head()"
   ]
  },
  {
   "cell_type": "code",
   "execution_count": 106,
   "metadata": {},
   "outputs": [
    {
     "name": "stderr",
     "output_type": "stream",
     "text": [
      "rows:  95%|█████████▌| 48639/51090 [10:48<00:32, 75.00it/s] \n"
     ]
    }
   ],
   "source": [
    "def parse_year(str_date):\n",
    "    return (int)(str_date[:4])\n",
    "\n",
    "def valid_date(str_date):\n",
    "    year = parse_year(str_date)\n",
    "    if year >= 2008 and year <= 2018:\n",
    "        return True\n",
    "    else:\n",
    "        return False;\n",
    "    \n",
    "def find_in(line, names):\n",
    "    res = []\n",
    "    for name in names:\n",
    "        if name in line:\n",
    "            res.append(name)\n",
    "    return res    \n",
    "    \n",
    "def process(df, male_names, female_names):\n",
    "    males = dict()\n",
    "    females = dict()\n",
    "    with tqdm(desc=\"rows\", total=len(df)) as pbar_outer:    \n",
    "        for row in df.itertuples():\n",
    "            # check only required dates\n",
    "            str_date = getattr(row, 'published_at')\n",
    "            if not valid_date(str_date):\n",
    "                continue\n",
    "            # go through text to find directors\n",
    "            year = parse_year(str_date)                \n",
    "            text_path = getattr(row, 'text_path')\n",
    "            for line in open(f'../modified_dfs/{text_path}'):\n",
    "                # look up male names\n",
    "                for name in find_in(line, male_names):\n",
    "                    if year in males:\n",
    "                        if name in males[year]:\n",
    "                            males[year][name].append(text_path)                                 \n",
    "                        else:\n",
    "                            males[year][name] = [text_path]\n",
    "                    else:\n",
    "                        males[year] = {name : [text_path]}\n",
    "                # look up female names        \n",
    "                for name in find_in(line, female_names):\n",
    "                    if year in females:\n",
    "                        if name in females[year]:\n",
    "                            females[year][name].append(text_path)                                                             \n",
    "                        else:\n",
    "                            females[year][name] = [text_path]\n",
    "                    else:\n",
    "                        females[year] = {name : [text_path]}    \n",
    "            pbar_outer.update(1)            \n",
    "    return males, females            \n",
    "\n",
    "males, females = process(df, male_names, female_names)            "
   ]
  },
  {
   "cell_type": "code",
   "execution_count": 110,
   "metadata": {},
   "outputs": [],
   "source": [
    "f_out = open('./female_mention_per_year.txt', 'w')\n",
    "for year, dct in females.items():    \n",
    "    for name, articles in dct.items():\n",
    "        res = str(year) + ' ' + name + ' '\n",
    "        for item in articles:\n",
    "            res += item + ' '\n",
    "        res += '\\n'   \n",
    "        f_out.write(res)\n",
    "f_out.close() "
   ]
  },
  {
   "cell_type": "code",
   "execution_count": 111,
   "metadata": {},
   "outputs": [],
   "source": [
    "f_out = open('./male_mention_per_year.txt', 'w')\n",
    "for year, dct in males.items():    \n",
    "    for name, articles in dct.items():\n",
    "        res = str(year) + ' ' + name + ' '\n",
    "        for item in articles:\n",
    "            res += item + ' '\n",
    "        res += '\\n'   \n",
    "        f_out.write(res)\n",
    "f_out.close()"
   ]
  },
  {
   "cell_type": "code",
   "execution_count": null,
   "metadata": {},
   "outputs": [],
   "source": []
  }
 ],
 "metadata": {
  "kernelspec": {
   "display_name": "Python 3",
   "language": "python",
   "name": "python3"
  },
  "language_info": {
   "codemirror_mode": {
    "name": "ipython",
    "version": 3
   },
   "file_extension": ".py",
   "mimetype": "text/x-python",
   "name": "python",
   "nbconvert_exporter": "python",
   "pygments_lexer": "ipython3",
   "version": "3.7.1"
  }
 },
 "nbformat": 4,
 "nbformat_minor": 2
}
