{
 "cells": [
  {
   "cell_type": "code",
   "execution_count": 15,
   "metadata": {},
   "outputs": [],
   "source": [
    "date = '20190707'\n",
    "path_prefix = f'../data/director_mentions'\n",
    "\n",
    "male_dln = f'{path_prefix}/male_fame_top_deadline_{date}.txt'\n",
    "male_hwr = f'{path_prefix}/male_fame_top_hollywood_reporter_{date}.txt'\n",
    "male_vrt = f'{path_prefix}/male_fame_top_variety_{date}.txt'\n",
    "\n",
    "fem_dln = f'{path_prefix}/female_fame_top_deadline_{date}.txt'\n",
    "fem_hwr = f'{path_prefix}/female_fame_top_hollywood_reporter_{date}.txt'\n",
    "fem_vrt = f'{path_prefix}/female_fame_top_variety_{date}.txt'"
   ]
  },
  {
   "cell_type": "code",
   "execution_count": 79,
   "metadata": {},
   "outputs": [],
   "source": [
    "def merge(top_lst_paths, gender):\n",
    "    dct = {}\n",
    "    for p in top_lst_paths:\n",
    "        with open(p, 'r') as fin:\n",
    "            for line in fin: \n",
    "                score, name = line.split(',')\n",
    "                name = (name[2:][:-2], gender)\n",
    "                score = int(score)\n",
    "                if name not in dct:\n",
    "                    dct[name] = score\n",
    "                else:\n",
    "                    dct[name] += score\n",
    "    merged_top = []            \n",
    "    for name, score in dct.items():\n",
    "        merged_top.append((score, name))\n",
    "    merged_top = sorted(merged_top, key=lambda x: (-x[0], x[1]))\n",
    "    return merged_top\n",
    "\n",
    "def save(top_lst, gender, path_prefix, date):\n",
    "    with open(f'{path_prefix}/total_{gender}_fame_top_{date}.txt', 'w') as f_out:       \n",
    "        for p in top_lst:\n",
    "            f_out.write(str(p) + '\\n')"
   ]
  },
  {
   "cell_type": "code",
   "execution_count": 80,
   "metadata": {},
   "outputs": [
    {
     "data": {
      "text/plain": [
       "[(4840, ('Steven Spielberg', 'male')),\n",
       " (4349, ('McG', 'male')),\n",
       " (3834, ('Martin Scorsese', 'male')),\n",
       " (3614, ('Walt Disney', 'male')),\n",
       " (2726, ('Clint Eastwood', 'male')),\n",
       " (2682, ('Woody Allen', 'male')),\n",
       " (2560, ('Quentin Tarantino', 'male')),\n",
       " (2539, ('Ridley Scott', 'male')),\n",
       " (2352, ('Christopher Nolan', 'male')),\n",
       " (1907, ('James Cameron', 'male'))]"
      ]
     },
     "execution_count": 80,
     "metadata": {},
     "output_type": "execute_result"
    }
   ],
   "source": [
    "male_top = merge([male_dln, male_hwr, male_vrt], 'male')\n",
    "save(male_top, 'male', path_prefix, '20191222')\n",
    "male_top[:10]"
   ]
  },
  {
   "cell_type": "code",
   "execution_count": 81,
   "metadata": {},
   "outputs": [
    {
     "data": {
      "text/plain": [
       "[(1271, ('Kathryn Bigelow', 'female')),\n",
       " (955, ('Ava DuVernay', 'female')),\n",
       " (599, ('Sofia Coppola', 'female')),\n",
       " (587, ('Lena Dunham', 'female')),\n",
       " (463, ('Susanne Bier', 'female')),\n",
       " (451, ('Jane Campion', 'female')),\n",
       " (427, ('Dee Rees', 'female')),\n",
       " (414, ('Andrea Arnold', 'female')),\n",
       " (405, ('Patty Jenkins', 'female')),\n",
       " (365, ('Lynne Ramsay', 'female'))]"
      ]
     },
     "execution_count": 81,
     "metadata": {},
     "output_type": "execute_result"
    }
   ],
   "source": [
    "female_top = merge([fem_dln, fem_hwr, fem_vrt], 'female')\n",
    "save(female_top, 'female', path_prefix, '20191222')\n",
    "female_top[:10]"
   ]
  },
  {
   "cell_type": "code",
   "execution_count": 82,
   "metadata": {},
   "outputs": [
    {
     "data": {
      "text/plain": [
       "[(4840, ('Steven Spielberg', 'male')),\n",
       " (4349, ('McG', 'male')),\n",
       " (3834, ('Martin Scorsese', 'male')),\n",
       " (3614, ('Walt Disney', 'male')),\n",
       " (2726, ('Clint Eastwood', 'male')),\n",
       " (2682, ('Woody Allen', 'male')),\n",
       " (2560, ('Quentin Tarantino', 'male')),\n",
       " (2539, ('Ridley Scott', 'male')),\n",
       " (2352, ('Christopher Nolan', 'male')),\n",
       " (1907, ('James Cameron', 'male')),\n",
       " (1687, ('Robert Redford', 'male')),\n",
       " (1609, ('David Fincher', 'male')),\n",
       " (1595, ('Ron Howard', 'male')),\n",
       " (1568, ('Steven Soderbergh', 'male')),\n",
       " (1567, ('Peter Jackson', 'male')),\n",
       " (1481, ('Tim Burton', 'male')),\n",
       " (1440, ('Michael Bay', 'male')),\n",
       " (1427, ('Mel Gibson', 'male')),\n",
       " (1365, ('Richard Linklater', 'male')),\n",
       " (1362, ('Ang Lee', 'male')),\n",
       " (1352, ('Oliver Stone', 'male')),\n",
       " (1331, ('Spike Lee', 'male')),\n",
       " (1328, ('Luc Besson', 'male')),\n",
       " (1308, ('Alfonso Cuaron', 'male')),\n",
       " (1271, ('Kathryn Bigelow', 'female')),\n",
       " (1265, ('Darren Aronofsky', 'male')),\n",
       " (1230, ('Terrence Malick', 'male')),\n",
       " (1220, ('Ben Stiller', 'male')),\n",
       " (1208, ('Wes Anderson', 'male')),\n",
       " (1133, ('Sylvester Stallone', 'male')),\n",
       " (1131, ('Roman Polanski', 'male')),\n",
       " (1123, ('George Lucas', 'male')),\n",
       " (1108, ('Danny Boyle', 'male')),\n",
       " (1044, ('Jackie Chan', 'male')),\n",
       " (1025, ('Paul Thomas Anderson', 'male')),\n",
       " (1019, ('Lee Daniels', 'male')),\n",
       " (997, ('Alexander Payne', 'male')),\n",
       " (982, ('Pedro Almodovar', 'male')),\n",
       " (964, ('Brett Ratner', 'male')),\n",
       " (957, ('Michael Moore', 'male')),\n",
       " (955, ('Ava DuVernay', 'female')),\n",
       " (952, ('Damien Chazelle', 'male')),\n",
       " (889, ('Denis Villeneuve', 'male')),\n",
       " (879, ('Robert Zemeckis', 'male')),\n",
       " (848, ('Michael Haneke', 'male')),\n",
       " (840, ('Stephen Frears', 'male')),\n",
       " (840, ('Zack Snyder', 'male')),\n",
       " (838, ('Alfred Hitchcock', 'male')),\n",
       " (830, ('Jon Favreau', 'male')),\n",
       " (828, ('David Cronenberg', 'male')),\n",
       " (825, ('Gus Van Sant', 'male')),\n",
       " (818, ('Jason Reitman', 'male')),\n",
       " (818, ('Tom Hooper', 'male')),\n",
       " (807, ('Kenneth Branagh', 'male')),\n",
       " (790, ('Francis Ford Coppola', 'male')),\n",
       " (758, ('Lars von Trier', 'male')),\n",
       " (749, ('Paul Greengrass', 'male')),\n",
       " (737, ('Bryan Singer', 'male')),\n",
       " (729, ('Stanley Kubrick', 'male')),\n",
       " (723, ('Sam Mendes', 'male')),\n",
       " (723, ('Wim Wenders', 'male')),\n",
       " (719, ('Mike Leigh', 'male')),\n",
       " (714, ('James Wan', 'male')),\n",
       " (714, ('Werner Herzog', 'male')),\n",
       " (697, ('Asghar Farhadi', 'male')),\n",
       " (689, ('Todd Haynes', 'male')),\n",
       " (681, ('David Lynch', 'male')),\n",
       " (667, ('Ken Loach', 'male')),\n",
       " (667, ('Stanley Tucci', 'male')),\n",
       " (667, ('Zhang Yimou', 'male')),\n",
       " (646, ('Sam Raimi', 'male')),\n",
       " (642, ('Baz Luhrmann', 'male')),\n",
       " (640, ('Roland Emmerich', 'male')),\n",
       " (637, ('Seth MacFarlane', 'male')),\n",
       " (636, ('John Lasseter', 'male')),\n",
       " (627, ('Orson Welles', 'male')),\n",
       " (625, ('Nicolas Winding Refn', 'male')),\n",
       " (623, ('Joss Whedon', 'male')),\n",
       " (621, ('Shawn Levy', 'male')),\n",
       " (616, ('Alejandro Gonzalez Inarritu', 'male')),\n",
       " (610, ('David Gordon Green', 'male')),\n",
       " (606, ('Robert Rodriguez', 'male')),\n",
       " (605, ('Spike Jonze', 'male')),\n",
       " (599, ('Bill Condon', 'male')),\n",
       " (599, ('Sofia Coppola', 'female')),\n",
       " (598, ('John Woo', 'male')),\n",
       " (595, ('Antoine Fuqua', 'male')),\n",
       " (587, ('Lena Dunham', 'female')),\n",
       " (578, ('Olivier Assayas', 'male')),\n",
       " (547, ('Guy Ritchie', 'male')),\n",
       " (540, ('Eli Roth', 'male')),\n",
       " (536, ('Xavier Dolan', 'male')),\n",
       " (535, ('Jacques Audiard', 'male')),\n",
       " (529, ('Jean-Luc Godard', 'male')),\n",
       " (521, ('Jim Jarmusch', 'male')),\n",
       " (520, ('Barry Levinson', 'male')),\n",
       " (518, ('Edgar Wright', 'male')),\n",
       " (516, ('Doug Liman', 'male')),\n",
       " (514, ('Robert Altman', 'male')),\n",
       " (506, ('Terry Gilliam', 'male'))]"
      ]
     },
     "execution_count": 82,
     "metadata": {},
     "output_type": "execute_result"
    }
   ],
   "source": [
    "merged_top = male_top + female_top\n",
    "merged_top = sorted(merged_top, key=lambda x: (-x[0], x[1]))\n",
    "save(merged_top, 'merged', path_prefix, '20191222')\n",
    "merged_top[:100]"
   ]
  }
 ],
 "metadata": {
  "kernelspec": {
   "display_name": "Python 3",
   "language": "python",
   "name": "python3"
  },
  "language_info": {
   "codemirror_mode": {
    "name": "ipython",
    "version": 3
   },
   "file_extension": ".py",
   "mimetype": "text/x-python",
   "name": "python",
   "nbconvert_exporter": "python",
   "pygments_lexer": "ipython3",
   "version": "3.7.1"
  }
 },
 "nbformat": 4,
 "nbformat_minor": 2
}
