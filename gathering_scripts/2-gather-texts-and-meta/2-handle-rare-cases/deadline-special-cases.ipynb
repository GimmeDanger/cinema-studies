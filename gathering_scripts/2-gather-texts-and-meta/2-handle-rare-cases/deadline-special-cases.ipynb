{
 "cells": [
  {
   "cell_type": "code",
   "execution_count": 1,
   "metadata": {},
   "outputs": [],
   "source": [
    "#Notebook for experiments in gathering data"
   ]
  },
  {
   "cell_type": "code",
   "execution_count": 2,
   "metadata": {},
   "outputs": [],
   "source": [
    "import os\n",
    "import re\n",
    "import csv\n",
    "import requests\n",
    "import warnings\n",
    "import pandas as pd\n",
    "from bs4 import BeautifulSoup\n",
    "from tqdm import tqdm, tqdm_notebook\n",
    "#warnings.filterwarnings('ignore')"
   ]
  },
  {
   "cell_type": "code",
   "execution_count": 3,
   "metadata": {},
   "outputs": [],
   "source": [
    "media_name = 'deadline'\n",
    "df_path = f\"../1-most-common-page-structure/mod_df/mod_{media_name}_df.csv\"\n",
    "errors_path = f\"../1-most-common-page-structure/errors/{media_name}_errors.csv\""
   ]
  },
  {
   "cell_type": "code",
   "execution_count": 4,
   "metadata": {},
   "outputs": [
    {
     "name": "stdout",
     "output_type": "stream",
     "text": [
      "df size = 51091\n",
      "err_df size = 1206\n"
     ]
    },
    {
     "data": {
      "text/html": [
       "<div>\n",
       "<style scoped>\n",
       "    .dataframe tbody tr th:only-of-type {\n",
       "        vertical-align: middle;\n",
       "    }\n",
       "\n",
       "    .dataframe tbody tr th {\n",
       "        vertical-align: top;\n",
       "    }\n",
       "\n",
       "    .dataframe thead th {\n",
       "        text-align: right;\n",
       "    }\n",
       "</style>\n",
       "<table border=\"1\" class=\"dataframe\">\n",
       "  <thead>\n",
       "    <tr style=\"text-align: right;\">\n",
       "      <th></th>\n",
       "      <th>url</th>\n",
       "      <th>reason</th>\n",
       "    </tr>\n",
       "  </thead>\n",
       "  <tbody>\n",
       "    <tr>\n",
       "      <th>0</th>\n",
       "      <td>https://deadline.com/2019/04/sxsw-title-mother...</td>\n",
       "      <td>cannot save data</td>\n",
       "    </tr>\n",
       "    <tr>\n",
       "      <th>1</th>\n",
       "      <td>https://deadline.com/2019/03/disney-alan-horn-...</td>\n",
       "      <td>cannot save data</td>\n",
       "    </tr>\n",
       "    <tr>\n",
       "      <th>2</th>\n",
       "      <td>https://deadline.com/2018/12/norman-gimbel-die...</td>\n",
       "      <td>cannot save data</td>\n",
       "    </tr>\n",
       "    <tr>\n",
       "      <th>3</th>\n",
       "      <td>https://deadline.com/2018/11/cine-sony-nalip-t...</td>\n",
       "      <td>cannot save data</td>\n",
       "    </tr>\n",
       "    <tr>\n",
       "      <th>4</th>\n",
       "      <td>https://deadline.com/2018/11/tom-staggs-effie-...</td>\n",
       "      <td>cannot save data</td>\n",
       "    </tr>\n",
       "  </tbody>\n",
       "</table>\n",
       "</div>"
      ],
      "text/plain": [
       "                                                 url            reason\n",
       "0  https://deadline.com/2019/04/sxsw-title-mother...  cannot save data\n",
       "1  https://deadline.com/2019/03/disney-alan-horn-...  cannot save data\n",
       "2  https://deadline.com/2018/12/norman-gimbel-die...  cannot save data\n",
       "3  https://deadline.com/2018/11/cine-sony-nalip-t...  cannot save data\n",
       "4  https://deadline.com/2018/11/tom-staggs-effie-...  cannot save data"
      ]
     },
     "execution_count": 4,
     "metadata": {},
     "output_type": "execute_result"
    }
   ],
   "source": [
    "df = pd.read_csv(df_path)\n",
    "err_df = pd.read_csv(errors_path)\n",
    "print(\"df size =\", len(df))\n",
    "print(\"err_df size =\", len(err_df))\n",
    "err_df.head()"
   ]
  },
  {
   "cell_type": "code",
   "execution_count": 5,
   "metadata": {},
   "outputs": [],
   "source": [
    "# import requests\n",
    "def get_html(url):\n",
    "    fake_headers = {'User-Agent': 'Mozilla/5.0 (Macintosh; Intel Mac OS X 10_11_5) AppleWebKit/537.36 (KHTML, like Gecko) Chrome/50.0.2661.102 Safari/537.36'}\n",
    "    response = requests.get(url, headers=fake_headers)\n",
    "    return response.text\n",
    "\n",
    "def get_html_test():\n",
    "    test_url = df.iloc[0]['article_url']\n",
    "    print(test_url)\n",
    "    print(get_html(test_url))\n",
    "\n",
    "#get_html_test()"
   ]
  },
  {
   "cell_type": "code",
   "execution_count": 6,
   "metadata": {},
   "outputs": [],
   "source": [
    "#from bs4 import BeautifulSoup\n",
    "def get_article_text(html_text):\n",
    "    soup = BeautifulSoup(html_text, \"lxml\")\n",
    "    text = soup.find(\"meta\", {\"name\": 'body'})['content']\n",
    "    return text\n",
    "\n",
    "def get_article_meta(html_text, meta_names):\n",
    "    ret = {}\n",
    "    soup = BeautifulSoup(html_text, \"lxml\")\n",
    "    for name in meta_names:\n",
    "        for meta in soup.find_all(\"meta\", {\"name\": name}):\n",
    "            if name not in ret:\n",
    "                ret[name] = meta['content']\n",
    "            elif ret[name] != meta['content']:\n",
    "                ret[name] = ret[name] + ', ' + meta['content']\n",
    "    return ret\n",
    "\n",
    "def get_article_text_test():    \n",
    "    test_url = df.iloc[0]['article_url']\n",
    "    html_text = get_html(test_url)\n",
    "    return get_article_text(html_text)\n",
    "\n",
    "def get_article_meta_test():    \n",
    "    test_url = df.iloc[0]['article_url']\n",
    "    html_text = get_html(test_url)\n",
    "    return get_article_meta(html_text, ['content_type', 'topics', 'title', 'author', 'published_at', 'tags'])\n",
    "\n",
    "#get_article_meta_test()"
   ]
  },
  {
   "cell_type": "code",
   "execution_count": 7,
   "metadata": {},
   "outputs": [],
   "source": [
    "try:\n",
    "    os.mkdir(media_name)\n",
    "except:\n",
    "    print(\"cannot create dir\")\n",
    "    \n",
    "df_meta_names = ['content_type', 'topics', 'title', 'author', 'published_at', 'tags']"
   ]
  },
  {
   "cell_type": "code",
   "execution_count": 8,
   "metadata": {},
   "outputs": [],
   "source": [
    "def parse_article_urls(df, err_df, meta_names):    \n",
    "    modified_df = df        \n",
    "    cannot_parsed = {} # {url : reason}\n",
    "    with tqdm(desc=\"rows\", total=len(err_df)) as pbar_outer:\n",
    "        for row in err_df.itertuples():\n",
    "            url = getattr(row, 'url')\n",
    "            # part 0: get html text\n",
    "            html_text = None\n",
    "            try:\n",
    "                html_text = get_html(url)\n",
    "            except:\n",
    "                cannot_parsed[url] = 'cannot get html'\n",
    "                pbar_outer.update(1)\n",
    "                continue                \n",
    "            # part 1: get article text\n",
    "            article_text = None\n",
    "            try:\n",
    "                article_text = get_article_text(html_text)                          \n",
    "            except:\n",
    "                cannot_parsed[url] = 'cannot get text'\n",
    "                pbar_outer.update(1)\n",
    "                continue\n",
    "            # part 2: get article meta\n",
    "            article_meta = None\n",
    "            try:\n",
    "                article_meta = get_article_meta(html_text, meta_names)\n",
    "            except:\n",
    "                cannot_parsed[url] = 'cannot get meta'\n",
    "                pbar_outer.update(1)\n",
    "                continue\n",
    "            # part 3: save data\n",
    "            try:\n",
    "                df_row = df.loc[df.article_url == url].to_dict()\n",
    "                index = list(df_row['text_path'].keys())[0]\n",
    "                text_path = list(df_row['text_path'].values())[0]\n",
    "                for name in meta_names:\n",
    "                    if name in article_meta:\n",
    "                        modified_df.at[index,name] = article_meta[name]\n",
    "                file = open(text_path,'w')\n",
    "                file.write(article_text)  \n",
    "                file.close()\n",
    "            except:\n",
    "                cannot_parsed[url] = 'cannot save data'\n",
    "            pbar_outer.update(1)\n",
    "    return (modified_df, cannot_parsed)"
   ]
  },
  {
   "cell_type": "code",
   "execution_count": 9,
   "metadata": {
    "scrolled": true
   },
   "outputs": [
    {
     "name": "stderr",
     "output_type": "stream",
     "text": [
      "rows: 100%|██████████| 1206/1206 [25:28<00:00,  1.27s/it]\n"
     ]
    }
   ],
   "source": [
    "mod_df, errors = parse_article_urls(df, err_df, df_meta_names)"
   ]
  },
  {
   "cell_type": "code",
   "execution_count": 10,
   "metadata": {},
   "outputs": [
    {
     "data": {
      "text/plain": [
       "{'https://deadline.com/2015/08/': 'cannot get text'}"
      ]
     },
     "execution_count": 10,
     "metadata": {},
     "output_type": "execute_result"
    }
   ],
   "source": [
    "errors"
   ]
  },
  {
   "cell_type": "code",
   "execution_count": 11,
   "metadata": {},
   "outputs": [],
   "source": [
    "if len(errors)>0:\n",
    "    file = open(f'{media_name}_errors.csv', \"w\")\n",
    "    f = csv.writer(file)\n",
    "    f.writerow([\"url\", \"reason\"])\n",
    "    for key, value in errors.items():\n",
    "      f.writerow([key, value])\n",
    "    file.close()\n",
    "    \n",
    "#mod_df.head()    "
   ]
  },
  {
   "cell_type": "code",
   "execution_count": 12,
   "metadata": {},
   "outputs": [],
   "source": [
    "mod_df = mod_df.drop(df.columns[0], axis=1)"
   ]
  },
  {
   "cell_type": "code",
   "execution_count": 13,
   "metadata": {},
   "outputs": [],
   "source": [
    "mod_df.to_csv(f\"full_{media_name}_df.csv\", index=True)"
   ]
  },
  {
   "cell_type": "code",
   "execution_count": null,
   "metadata": {},
   "outputs": [],
   "source": []
  }
 ],
 "metadata": {
  "kernelspec": {
   "display_name": "Python 3",
   "language": "python",
   "name": "python3"
  },
  "language_info": {
   "codemirror_mode": {
    "name": "ipython",
    "version": 3
   },
   "file_extension": ".py",
   "mimetype": "text/x-python",
   "name": "python",
   "nbconvert_exporter": "python",
   "pygments_lexer": "ipython3",
   "version": "3.7.1"
  }
 },
 "nbformat": 4,
 "nbformat_minor": 2
}
