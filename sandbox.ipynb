{
 "cells": [
  {
   "cell_type": "code",
   "execution_count": 1,
   "metadata": {},
   "outputs": [],
   "source": [
    "#Notebook for experiments in gathering data"
   ]
  },
  {
   "cell_type": "code",
   "execution_count": 2,
   "metadata": {},
   "outputs": [],
   "source": [
    "import re\n",
    "import csv\n",
    "import requests\n",
    "import pandas as pd\n",
    "from bs4 import BeautifulSoup"
   ]
  },
  {
   "cell_type": "code",
   "execution_count": 24,
   "metadata": {},
   "outputs": [],
   "source": [
    "hwr_director_df = pd.read_csv('raw_data/hwreporter/hollywoodreporter_director_urls_records.csv')\n",
    "hwr_films_df = pd.read_csv('raw_data/hwreporter/hollywoodreporter_film_urls_records.csv')"
   ]
  },
  {
   "cell_type": "code",
   "execution_count": 25,
   "metadata": {},
   "outputs": [],
   "source": [
    "hwr_films_df = hwr_films_df.drop('uid', axis=1)\n",
    "hwr_director_df = hwr_director_df.drop('uid', axis=1)"
   ]
  },
  {
   "cell_type": "code",
   "execution_count": 27,
   "metadata": {},
   "outputs": [
    {
     "data": {
      "text/plain": [
       "(90154, 63999)"
      ]
     },
     "execution_count": 27,
     "metadata": {},
     "output_type": "execute_result"
    }
   ],
   "source": [
    "len(hwr_films_df), len(hwr_director_df)"
   ]
  },
  {
   "cell_type": "code",
   "execution_count": 52,
   "metadata": {},
   "outputs": [
    {
     "name": "stdout",
     "output_type": "stream",
     "text": [
      "Before drop: 154153\n",
      "After drop: 101918\n"
     ]
    },
    {
     "data": {
      "text/html": [
       "<div>\n",
       "<style scoped>\n",
       "    .dataframe tbody tr th:only-of-type {\n",
       "        vertical-align: middle;\n",
       "    }\n",
       "\n",
       "    .dataframe tbody tr th {\n",
       "        vertical-align: top;\n",
       "    }\n",
       "\n",
       "    .dataframe thead th {\n",
       "        text-align: right;\n",
       "    }\n",
       "</style>\n",
       "<table border=\"1\" class=\"dataframe\">\n",
       "  <thead>\n",
       "    <tr style=\"text-align: right;\">\n",
       "      <th></th>\n",
       "      <th>media</th>\n",
       "      <th>category</th>\n",
       "      <th>url</th>\n",
       "    </tr>\n",
       "  </thead>\n",
       "  <tbody>\n",
       "    <tr>\n",
       "      <th>0</th>\n",
       "      <td>hollywood_reporter</td>\n",
       "      <td>news</td>\n",
       "      <td>https://www.hollywoodreporter.com/news/golden-...</td>\n",
       "    </tr>\n",
       "    <tr>\n",
       "      <th>1</th>\n",
       "      <td>hollywood_reporter</td>\n",
       "      <td>news</td>\n",
       "      <td>https://www.hollywoodreporter.com/news/critics...</td>\n",
       "    </tr>\n",
       "    <tr>\n",
       "      <th>2</th>\n",
       "      <td>hollywood_reporter</td>\n",
       "      <td>news</td>\n",
       "      <td>https://www.hollywoodreporter.com/news/wandas-...</td>\n",
       "    </tr>\n",
       "    <tr>\n",
       "      <th>3</th>\n",
       "      <td>hollywood_reporter</td>\n",
       "      <td>news</td>\n",
       "      <td>https://www.hollywoodreporter.com/news/oscars-...</td>\n",
       "    </tr>\n",
       "    <tr>\n",
       "      <th>4</th>\n",
       "      <td>hollywood_reporter</td>\n",
       "      <td>news</td>\n",
       "      <td>https://www.hollywoodreporter.com/news/sony-ex...</td>\n",
       "    </tr>\n",
       "  </tbody>\n",
       "</table>\n",
       "</div>"
      ],
      "text/plain": [
       "                media category  \\\n",
       "0  hollywood_reporter     news   \n",
       "1  hollywood_reporter     news   \n",
       "2  hollywood_reporter     news   \n",
       "3  hollywood_reporter     news   \n",
       "4  hollywood_reporter     news   \n",
       "\n",
       "                                                 url  \n",
       "0  https://www.hollywoodreporter.com/news/golden-...  \n",
       "1  https://www.hollywoodreporter.com/news/critics...  \n",
       "2  https://www.hollywoodreporter.com/news/wandas-...  \n",
       "3  https://www.hollywoodreporter.com/news/oscars-...  \n",
       "4  https://www.hollywoodreporter.com/news/sony-ex...  "
      ]
     },
     "execution_count": 52,
     "metadata": {},
     "output_type": "execute_result"
    }
   ],
   "source": [
    "hwr_df = pd.concat([hwr_films_df, hwr_director_df])\n",
    "print(\"Before drop:\", len(hwr_df))\n",
    "\n",
    "hwr_df.drop_duplicates(keep='first',inplace=True) \n",
    "print(\"After drop:\", len(hwr_df))\n",
    "\n",
    "hwr_df.insert(0, \"media\", \"hollywood_reporter\")\n",
    "hwr_df['url'] = 'https://www.hollywoodreporter.com' + hwr_df['url']\n",
    "hwr_df.head()"
   ]
  },
  {
   "cell_type": "code",
   "execution_count": 74,
   "metadata": {},
   "outputs": [],
   "source": [
    "hwr_df.to_csv('hwr_df.csv', index=False, encoding='utf-8')"
   ]
  },
  {
   "cell_type": "code",
   "execution_count": 57,
   "metadata": {},
   "outputs": [
    {
     "name": "stdout",
     "output_type": "stream",
     "text": [
      "deadline  director_lists  filmcomment  hwreporter  variety\n",
      "variety_columns_urls_records.csv  variety_reviews_urls_records.csv\n",
      "variety_news_urls_records.csv\n"
     ]
    }
   ],
   "source": [
    "!ls raw_data\n",
    "!ls raw_data/variety"
   ]
  },
  {
   "cell_type": "code",
   "execution_count": 70,
   "metadata": {},
   "outputs": [
    {
     "name": "stdout",
     "output_type": "stream",
     "text": [
      "['columns'] 2535\n",
      "['columns'] 2528\n",
      "['reviews' 'category'] 42082\n",
      "['reviews' 'category'] 41643\n",
      "['news'] 145291\n",
      "['news'] 143000\n"
     ]
    }
   ],
   "source": [
    "variety_columns_df = pd.read_csv('raw_data/variety/variety_columns_urls_records.csv')\n",
    "variety_columns_df = variety_columns_df.drop('uid', axis=1)\n",
    "print(variety_columns_df['category'].unique(), len(variety_columns_df))\n",
    "variety_columns_df.drop_duplicates(keep='first',inplace=True) \n",
    "print(variety_columns_df['category'].unique(), len(variety_columns_df))\n",
    "\n",
    "variety_reviews_df = pd.read_csv('raw_data/variety/variety_reviews_urls_records.csv')\n",
    "variety_reviews_df = variety_reviews_df.drop('uid', axis=1)\n",
    "print(variety_reviews_df['category'].unique(), len(variety_reviews_df))\n",
    "variety_reviews_df.drop_duplicates(keep='first',inplace=True) \n",
    "print(variety_reviews_df['category'].unique(), len(variety_reviews_df))\n",
    "variety_reviews_df.head()\n",
    "\n",
    "variety_news_df = pd.read_csv('raw_data/variety/variety_news_urls_records.csv')\n",
    "variety_news_df = variety_news_df.drop('uid', axis=1)\n",
    "print(variety_news_df['category'].unique(), len(variety_news_df))\n",
    "variety_news_df.drop_duplicates(keep='first',inplace=True) \n",
    "print(variety_news_df['category'].unique(), len(variety_news_df))\n",
    "variety_news_df.head()\n",
    "\n",
    "variety_df = pd.concat([variety_columns_df, variety_reviews_df, variety_news_df])\n",
    "variety_df.insert(0, \"media\", \"variety\")\n",
    "variety_df.head()\n",
    "\n",
    "variety_df.to_csv('variety_df.csv', index=False, encoding='utf-8')"
   ]
  },
  {
   "cell_type": "code",
   "execution_count": 77,
   "metadata": {},
   "outputs": [
    {
     "name": "stdout",
     "output_type": "stream",
     "text": [
      "filmcomment_article_urls_records.csv  filmcomment_blog_urls_records.csv\r\n"
     ]
    }
   ],
   "source": [
    "!ls raw_data/filmcomment"
   ]
  },
  {
   "cell_type": "code",
   "execution_count": 84,
   "metadata": {},
   "outputs": [
    {
     "name": "stdout",
     "output_type": "stream",
     "text": [
      "['article'] 1702\n"
     ]
    },
    {
     "data": {
      "text/html": [
       "<div>\n",
       "<style scoped>\n",
       "    .dataframe tbody tr th:only-of-type {\n",
       "        vertical-align: middle;\n",
       "    }\n",
       "\n",
       "    .dataframe tbody tr th {\n",
       "        vertical-align: top;\n",
       "    }\n",
       "\n",
       "    .dataframe thead th {\n",
       "        text-align: right;\n",
       "    }\n",
       "</style>\n",
       "<table border=\"1\" class=\"dataframe\">\n",
       "  <thead>\n",
       "    <tr style=\"text-align: right;\">\n",
       "      <th></th>\n",
       "      <th>category</th>\n",
       "      <th>url</th>\n",
       "    </tr>\n",
       "  </thead>\n",
       "  <tbody>\n",
       "    <tr>\n",
       "      <th>0</th>\n",
       "      <td>article</td>\n",
       "      <td>https://www.filmcomment.com/article/jia-zhangk...</td>\n",
       "    </tr>\n",
       "    <tr>\n",
       "      <th>1</th>\n",
       "      <td>article</td>\n",
       "      <td>https://www.filmcomment.com/article/review-a-m...</td>\n",
       "    </tr>\n",
       "    <tr>\n",
       "      <th>2</th>\n",
       "      <td>article</td>\n",
       "      <td>https://www.filmcomment.com/article/directions...</td>\n",
       "    </tr>\n",
       "    <tr>\n",
       "      <th>3</th>\n",
       "      <td>article</td>\n",
       "      <td>https://www.filmcomment.com/article/review-the...</td>\n",
       "    </tr>\n",
       "    <tr>\n",
       "      <th>4</th>\n",
       "      <td>article</td>\n",
       "      <td>https://www.filmcomment.com/article/28th-annua...</td>\n",
       "    </tr>\n",
       "  </tbody>\n",
       "</table>\n",
       "</div>"
      ],
      "text/plain": [
       "  category                                                url\n",
       "0  article  https://www.filmcomment.com/article/jia-zhangk...\n",
       "1  article  https://www.filmcomment.com/article/review-a-m...\n",
       "2  article  https://www.filmcomment.com/article/directions...\n",
       "3  article  https://www.filmcomment.com/article/review-the...\n",
       "4  article  https://www.filmcomment.com/article/28th-annua..."
      ]
     },
     "execution_count": 84,
     "metadata": {},
     "output_type": "execute_result"
    }
   ],
   "source": [
    "filmcomment_article_df = pd.read_csv('raw_data/filmcomment/filmcomment_article_urls_records.csv')\n",
    "filmcomment_article_df = filmcomment_article_df.drop('uid', axis=1)\n",
    "print(filmcomment_article_df['category'].unique(), len(filmcomment_article_df))\n",
    "filmcomment_article_df.drop_duplicates(keep='first',inplace=True)\n",
    "filmcomment_article_df.head()"
   ]
  },
  {
   "cell_type": "code",
   "execution_count": 85,
   "metadata": {},
   "outputs": [
    {
     "name": "stdout",
     "output_type": "stream",
     "text": [
      "['blog'] 1701\n"
     ]
    },
    {
     "data": {
      "text/html": [
       "<div>\n",
       "<style scoped>\n",
       "    .dataframe tbody tr th:only-of-type {\n",
       "        vertical-align: middle;\n",
       "    }\n",
       "\n",
       "    .dataframe tbody tr th {\n",
       "        vertical-align: top;\n",
       "    }\n",
       "\n",
       "    .dataframe thead th {\n",
       "        text-align: right;\n",
       "    }\n",
       "</style>\n",
       "<table border=\"1\" class=\"dataframe\">\n",
       "  <thead>\n",
       "    <tr style=\"text-align: right;\">\n",
       "      <th></th>\n",
       "      <th>category</th>\n",
       "      <th>url</th>\n",
       "    </tr>\n",
       "  </thead>\n",
       "  <tbody>\n",
       "    <tr>\n",
       "      <th>0</th>\n",
       "      <td>blog</td>\n",
       "      <td>https://www.filmcomment.com/blog/interview-bre...</td>\n",
       "    </tr>\n",
       "    <tr>\n",
       "      <th>1</th>\n",
       "      <td>blog</td>\n",
       "      <td>https://www.filmcomment.com/blog/deep-focus-ma...</td>\n",
       "    </tr>\n",
       "    <tr>\n",
       "      <th>2</th>\n",
       "      <td>blog</td>\n",
       "      <td>https://www.filmcomment.com/blog/lois-weber-du...</td>\n",
       "    </tr>\n",
       "    <tr>\n",
       "      <th>3</th>\n",
       "      <td>blog</td>\n",
       "      <td>https://www.filmcomment.com/blog/making-case-c...</td>\n",
       "    </tr>\n",
       "    <tr>\n",
       "      <th>4</th>\n",
       "      <td>blog</td>\n",
       "      <td>https://www.filmcomment.com/blog/the-film-comm...</td>\n",
       "    </tr>\n",
       "  </tbody>\n",
       "</table>\n",
       "</div>"
      ],
      "text/plain": [
       "  category                                                url\n",
       "0     blog  https://www.filmcomment.com/blog/interview-bre...\n",
       "1     blog  https://www.filmcomment.com/blog/deep-focus-ma...\n",
       "2     blog  https://www.filmcomment.com/blog/lois-weber-du...\n",
       "3     blog  https://www.filmcomment.com/blog/making-case-c...\n",
       "4     blog  https://www.filmcomment.com/blog/the-film-comm..."
      ]
     },
     "execution_count": 85,
     "metadata": {},
     "output_type": "execute_result"
    }
   ],
   "source": [
    "filmcomment_blog_df = pd.read_csv('raw_data/filmcomment/filmcomment_blog_urls_records.csv')\n",
    "filmcomment_blog_df = filmcomment_blog_df.drop('uid', axis=1)\n",
    "print(filmcomment_blog_df['category'].unique(), len(filmcomment_article_df))\n",
    "filmcomment_blog_df.drop_duplicates(keep='first',inplace=True)\n",
    "filmcomment_blog_df.head()"
   ]
  },
  {
   "cell_type": "code",
   "execution_count": 87,
   "metadata": {},
   "outputs": [],
   "source": [
    "filmcomment_df = pd.concat([filmcomment_blog_df, filmcomment_article_df])\n",
    "filmcomment_df.insert(0, \"media\", \"filmcomment\")\n",
    "filmcomment_df.to_csv('filmcomment_df.csv', index=False, encoding='utf-8')"
   ]
  },
  {
   "cell_type": "code",
   "execution_count": 90,
   "metadata": {},
   "outputs": [
    {
     "name": "stdout",
     "output_type": "stream",
     "text": [
      "deadline_film_urls_records.csv\r\n"
     ]
    }
   ],
   "source": [
    "!ls raw_data/deadline"
   ]
  },
  {
   "cell_type": "code",
   "execution_count": 94,
   "metadata": {},
   "outputs": [],
   "source": [
    "deadline_df = pd.read_csv('raw_data/deadline/deadline_film_urls_records.csv')\n",
    "deadline_df = deadline_df.drop('uid', axis=1)\n",
    "deadline_df.insert(0, \"media\", \"deadline\")\n",
    "deadline_df.to_csv('deadline_df.csv', index=False, encoding='utf-8')"
   ]
  },
  {
   "cell_type": "code",
   "execution_count": 95,
   "metadata": {},
   "outputs": [
    {
     "name": "stdout",
     "output_type": "stream",
     "text": [
      "deadline_df.csv     hwr_df.csv\t\traw_data       variety_df.csv\r\n",
      "filmcomment_df.csv  parse_scripts\tsandbox.ipynb\r\n",
      "gathering_scripts   processing_scripts\tsandbox.py\r\n"
     ]
    }
   ],
   "source": [
    "!ls"
   ]
  },
  {
   "cell_type": "code",
   "execution_count": 96,
   "metadata": {},
   "outputs": [],
   "source": [
    "df_1 = pd.read_csv('deadline_df.csv')\n",
    "df_2 = pd.read_csv('hwr_df.csv')\n",
    "df_3 = pd.read_csv('variety_df.csv')\n",
    "df_4 = pd.read_csv('filmcomment_df.csv')"
   ]
  },
  {
   "cell_type": "code",
   "execution_count": 97,
   "metadata": {},
   "outputs": [],
   "source": [
    "film_media_df = pd.concat([df_1, df_2, df_3, df_4])"
   ]
  },
  {
   "cell_type": "code",
   "execution_count": 105,
   "metadata": {},
   "outputs": [
    {
     "data": {
      "text/plain": [
       "array(['film', 'news', 'review', 'columns', 'blog', 'article'],\n",
       "      dtype=object)"
      ]
     },
     "execution_count": 105,
     "metadata": {},
     "output_type": "execute_result"
    }
   ],
   "source": [
    "film_media_df.loc[film_media_df.category == 'reviews', 'category'] = 'review'\n",
    "film_media_df['category'].unique()"
   ]
  },
  {
   "cell_type": "code",
   "execution_count": 106,
   "metadata": {},
   "outputs": [
    {
     "data": {
      "text/plain": [
       "344225"
      ]
     },
     "execution_count": 106,
     "metadata": {},
     "output_type": "execute_result"
    }
   ],
   "source": [
    "len(film_media_df)"
   ]
  },
  {
   "cell_type": "code",
   "execution_count": 108,
   "metadata": {},
   "outputs": [
    {
     "data": {
      "text/html": [
       "<div>\n",
       "<style scoped>\n",
       "    .dataframe tbody tr th:only-of-type {\n",
       "        vertical-align: middle;\n",
       "    }\n",
       "\n",
       "    .dataframe tbody tr th {\n",
       "        vertical-align: top;\n",
       "    }\n",
       "\n",
       "    .dataframe thead th {\n",
       "        text-align: right;\n",
       "    }\n",
       "</style>\n",
       "<table border=\"1\" class=\"dataframe\">\n",
       "  <thead>\n",
       "    <tr style=\"text-align: right;\">\n",
       "      <th></th>\n",
       "      <th>media</th>\n",
       "      <th>category</th>\n",
       "      <th>url</th>\n",
       "    </tr>\n",
       "  </thead>\n",
       "  <tbody>\n",
       "    <tr>\n",
       "      <th>0</th>\n",
       "      <td>deadline</td>\n",
       "      <td>film</td>\n",
       "      <td>https://deadline.com/2019/01/4-percent-challen...</td>\n",
       "    </tr>\n",
       "    <tr>\n",
       "      <th>1</th>\n",
       "      <td>deadline</td>\n",
       "      <td>film</td>\n",
       "      <td>https://deadline.com/2019/03/jared-harris-jare...</td>\n",
       "    </tr>\n",
       "    <tr>\n",
       "      <th>2</th>\n",
       "      <td>deadline</td>\n",
       "      <td>film</td>\n",
       "      <td>https://deadline.com/2019/03/sky-tin-star-tim-...</td>\n",
       "    </tr>\n",
       "    <tr>\n",
       "      <th>3</th>\n",
       "      <td>deadline</td>\n",
       "      <td>film</td>\n",
       "      <td>https://deadline.com/2019/02/jj-abrams-jedi-st...</td>\n",
       "    </tr>\n",
       "    <tr>\n",
       "      <th>4</th>\n",
       "      <td>deadline</td>\n",
       "      <td>film</td>\n",
       "      <td>https://deadline.com/2019/03/june-harding-dies...</td>\n",
       "    </tr>\n",
       "  </tbody>\n",
       "</table>\n",
       "</div>"
      ],
      "text/plain": [
       "      media category                                                url\n",
       "0  deadline     film  https://deadline.com/2019/01/4-percent-challen...\n",
       "1  deadline     film  https://deadline.com/2019/03/jared-harris-jare...\n",
       "2  deadline     film  https://deadline.com/2019/03/sky-tin-star-tim-...\n",
       "3  deadline     film  https://deadline.com/2019/02/jj-abrams-jedi-st...\n",
       "4  deadline     film  https://deadline.com/2019/03/june-harding-dies..."
      ]
     },
     "execution_count": 108,
     "metadata": {},
     "output_type": "execute_result"
    }
   ],
   "source": [
    "film_media_df.head()"
   ]
  },
  {
   "cell_type": "code",
   "execution_count": 107,
   "metadata": {},
   "outputs": [],
   "source": [
    "film_media_df.to_csv('film_media_df.csv', index=False, encoding='utf-8')"
   ]
  },
  {
   "cell_type": "code",
   "execution_count": null,
   "metadata": {},
   "outputs": [],
   "source": []
  }
 ],
 "metadata": {
  "kernelspec": {
   "display_name": "Python 3",
   "language": "python",
   "name": "python3"
  },
  "language_info": {
   "codemirror_mode": {
    "name": "ipython",
    "version": 3
   },
   "file_extension": ".py",
   "mimetype": "text/x-python",
   "name": "python",
   "nbconvert_exporter": "python",
   "pygments_lexer": "ipython3",
   "version": "3.7.1"
  }
 },
 "nbformat": 4,
 "nbformat_minor": 2
}
