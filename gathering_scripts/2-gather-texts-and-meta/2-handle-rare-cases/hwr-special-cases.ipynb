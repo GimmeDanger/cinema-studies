{
 "cells": [
  {
   "cell_type": "code",
   "execution_count": 1,
   "metadata": {},
   "outputs": [],
   "source": [
    "#Notebook for experiments in gathering data"
   ]
  },
  {
   "cell_type": "code",
   "execution_count": 8,
   "metadata": {},
   "outputs": [],
   "source": [
    "import os\n",
    "import re\n",
    "import csv\n",
    "import requests\n",
    "import warnings\n",
    "import pandas as pd\n",
    "from bs4 import BeautifulSoup\n",
    "from tqdm import tqdm, tqdm_notebook\n",
    "#warnings.filterwarnings('ignore')"
   ]
  },
  {
   "cell_type": "code",
   "execution_count": 3,
   "metadata": {},
   "outputs": [],
   "source": [
    "media_name = 'hollywood_reporter'\n",
    "df_path = f\"../1-most-common-page-structure/mod_df/mod_hwr_df.csv\"\n",
    "errors_path = f\"../1-most-common-page-structure/errors/hwr_errors.csv\""
   ]
  },
  {
   "cell_type": "code",
   "execution_count": 4,
   "metadata": {},
   "outputs": [
    {
     "name": "stdout",
     "output_type": "stream",
     "text": [
      "df size = 101918\n",
      "err_df size = 2561\n"
     ]
    },
    {
     "data": {
      "text/html": [
       "<div>\n",
       "<style scoped>\n",
       "    .dataframe tbody tr th:only-of-type {\n",
       "        vertical-align: middle;\n",
       "    }\n",
       "\n",
       "    .dataframe tbody tr th {\n",
       "        vertical-align: top;\n",
       "    }\n",
       "\n",
       "    .dataframe thead th {\n",
       "        text-align: right;\n",
       "    }\n",
       "</style>\n",
       "<table border=\"1\" class=\"dataframe\">\n",
       "  <thead>\n",
       "    <tr style=\"text-align: right;\">\n",
       "      <th></th>\n",
       "      <th>url</th>\n",
       "      <th>reason</th>\n",
       "    </tr>\n",
       "  </thead>\n",
       "  <tbody>\n",
       "    <tr>\n",
       "      <th>0</th>\n",
       "      <td>https://www.hollywoodreporter.com/features/woo...</td>\n",
       "      <td>cannot get text</td>\n",
       "    </tr>\n",
       "    <tr>\n",
       "      <th>1</th>\n",
       "      <td>https://www.hollywoodreporter.com/news/directo...</td>\n",
       "      <td>cannot get meta</td>\n",
       "    </tr>\n",
       "    <tr>\n",
       "      <th>2</th>\n",
       "      <td>https://www.hollywoodreporter.com/features/dir...</td>\n",
       "      <td>cannot get text</td>\n",
       "    </tr>\n",
       "    <tr>\n",
       "      <th>3</th>\n",
       "      <td>https://www.hollywoodreporter.com/features/lor...</td>\n",
       "      <td>cannot get text</td>\n",
       "    </tr>\n",
       "    <tr>\n",
       "      <th>4</th>\n",
       "      <td>https://www.hollywoodreporter.com/features/jam...</td>\n",
       "      <td>cannot get text</td>\n",
       "    </tr>\n",
       "  </tbody>\n",
       "</table>\n",
       "</div>"
      ],
      "text/plain": [
       "                                                 url           reason\n",
       "0  https://www.hollywoodreporter.com/features/woo...  cannot get text\n",
       "1  https://www.hollywoodreporter.com/news/directo...  cannot get meta\n",
       "2  https://www.hollywoodreporter.com/features/dir...  cannot get text\n",
       "3  https://www.hollywoodreporter.com/features/lor...  cannot get text\n",
       "4  https://www.hollywoodreporter.com/features/jam...  cannot get text"
      ]
     },
     "execution_count": 4,
     "metadata": {},
     "output_type": "execute_result"
    }
   ],
   "source": [
    "df = pd.read_csv(df_path)\n",
    "err_df = pd.read_csv(errors_path)\n",
    "print(\"df size =\", len(df))\n",
    "print(\"err_df size =\", len(err_df))\n",
    "err_df.head()"
   ]
  },
  {
   "cell_type": "code",
   "execution_count": 5,
   "metadata": {},
   "outputs": [
    {
     "name": "stdout",
     "output_type": "stream",
     "text": [
      "cannot create dir\n"
     ]
    }
   ],
   "source": [
    "try:\n",
    "    os.mkdir(media_name)\n",
    "except:\n",
    "    print(\"cannot create dir\")\n",
    "\n",
    "df_article_class_names = [\"article__body js-fitvids-content\", \"longform__body-primary\"]\n",
    "df_meta_names = ['title', 'description', 'date', 'author', 'vertical', 'tags']"
   ]
  },
  {
   "cell_type": "code",
   "execution_count": 6,
   "metadata": {},
   "outputs": [],
   "source": [
    "# import requests\n",
    "def get_html(url):\n",
    "    fake_headers = {'User-Agent': 'Mozilla/5.0 (Macintosh; Intel Mac OS X 10_11_5) AppleWebKit/537.36 (KHTML, like Gecko) Chrome/50.0.2661.102 Safari/537.36'}\n",
    "    response = requests.get(url, headers=fake_headers)\n",
    "    return response.text\n",
    "\n",
    "def get_html_test():\n",
    "    test_url = df.iloc[0]['article_url']\n",
    "    print(test_url)\n",
    "    print(get_html(test_url))"
   ]
  },
  {
   "cell_type": "code",
   "execution_count": 7,
   "metadata": {},
   "outputs": [],
   "source": [
    "#from bs4 import BeautifulSoup\n",
    "def get_article_text(html_text):\n",
    "    soup = BeautifulSoup(html_text, \"lxml\")\n",
    "    for class_name_str in df_article_class_names:\n",
    "        mydivs = soup.find(\"div\", {\"class\": class_name_str})\n",
    "        if mydivs != None:\n",
    "            text = ''\n",
    "            for p in mydivs.find_all(\"p\"):\n",
    "                text += p.text + ' '\n",
    "            return text\n",
    "    return None    \n",
    "\n",
    "def get_article_meta(html_text, meta_names):\n",
    "    ret = {}\n",
    "    soup = BeautifulSoup(html_text, \"lxml\")\n",
    "    for name in meta_names:\n",
    "        for meta in soup.find_all(\"meta\", {\"name\": \"sailthru.\"+name}):\n",
    "            if name not in ret:\n",
    "                ret[name] = meta['content']\n",
    "            elif ret[name] != meta['content']:\n",
    "                ret[name] = ret[name] + ', ' + meta['content']\n",
    "    return ret\n",
    "\n",
    "def get_article_text_test():    \n",
    "    test_url = df.iloc[0]['article_url']\n",
    "    html_text = get_html(test_url)\n",
    "    return get_article_text(html_text)\n",
    "\n",
    "def get_article_meta_test():    \n",
    "    test_url = df.iloc[0]['article_url']    \n",
    "    html_text = get_html(test_url)\n",
    "    return get_article_meta(html_text, ['title', 'description', 'date', 'author', 'vertical', 'tags'])\n",
    "\n",
    "#get_article_text_test()"
   ]
  },
  {
   "cell_type": "code",
   "execution_count": 8,
   "metadata": {},
   "outputs": [],
   "source": [
    "def parse_article_urls(df, err_df, meta_names):    \n",
    "    modified_df = df        \n",
    "    cannot_parsed = {} # {url : reason}\n",
    "    with tqdm(desc=\"rows\", total=len(err_df)) as pbar_outer:\n",
    "        for row in err_df.itertuples():\n",
    "            url = getattr(row, 'url')\n",
    "            # part 0: get html text\n",
    "            html_text = None\n",
    "            try:\n",
    "                html_text = get_html(url)\n",
    "            except:\n",
    "                cannot_parsed[url] = 'cannot get html'\n",
    "                pbar_outer.update(1)\n",
    "                continue                \n",
    "            # part 1: get article text\n",
    "            article_text = None\n",
    "            try:\n",
    "                article_text = get_article_text(html_text)                          \n",
    "            except:\n",
    "                cannot_parsed[url] = 'cannot get text'\n",
    "                pbar_outer.update(1)\n",
    "                continue\n",
    "            # part 2: get article meta\n",
    "            article_meta = None\n",
    "            try:\n",
    "                article_meta = get_article_meta(html_text, meta_names)\n",
    "            except:\n",
    "                cannot_parsed[url] = 'cannot get meta'\n",
    "                pbar_outer.update(1)\n",
    "                continue\n",
    "            # part 3: save data\n",
    "            try:\n",
    "                df_row = df.loc[df.article_url == url].to_dict()\n",
    "                index = list(df_row['text_path'].keys())[0]\n",
    "                text_path = list(df_row['text_path'].values())[0]\n",
    "                for name in meta_names:\n",
    "                    if name in article_meta:\n",
    "                        modified_df.at[index,name] = article_meta[name]        \n",
    "                file = open(text_path,'w')\n",
    "                file.write(article_text)  \n",
    "                file.close()\n",
    "            except:\n",
    "                cannot_parsed[url] = 'cannot save data'\n",
    "            pbar_outer.update(1)\n",
    "    return (modified_df, cannot_parsed)"
   ]
  },
  {
   "cell_type": "code",
   "execution_count": 9,
   "metadata": {
    "scrolled": true
   },
   "outputs": [
    {
     "name": "stderr",
     "output_type": "stream",
     "text": [
      "rows: 100%|██████████| 2561/2561 [38:18<00:00,  1.08s/it] \n"
     ]
    }
   ],
   "source": [
    "mod_df, errors = parse_article_urls(df, err_df, df_meta_names)"
   ]
  },
  {
   "cell_type": "code",
   "execution_count": 10,
   "metadata": {},
   "outputs": [
    {
     "data": {
      "text/plain": [
       "{'https://www.hollywoodreporter.com/news/isabelle-huppert-wins-best-performance-by-an-actress-a-motion-picture-drama-golden-globes-2017': 'cannot save data',\n",
       " 'https://www.hollywoodreporter.com/features/making-hidden-figures-how-taraji-p-henson-octavia-spencer-pharrell-williams-revisited-60': 'cannot save data',\n",
       " 'https://www.hollywoodreporter.com/features/elton-johns-oscar-party-turns-25': 'cannot save data',\n",
       " 'https://www.hollywoodreporter.com/news/gotham-awards-red-carpet-interviews-2016': 'cannot save data',\n",
       " 'https://www.hollywoodreporter.com/news/office-christmas-party-trailer-2': 'cannot save data',\n",
       " 'https://www.hollywoodreporter.com/news/dev-patel-lion-just-be-an-man-a-modern-20': 'cannot save data',\n",
       " 'https://www.hollywoodreporter.com/features/composer-roundtable-6': 'cannot save data',\n",
       " 'https://www.hollywoodreporter.com/features/actress-roundtable-emma-stone-natalie-portman-taraji-p-henson-4': 'cannot save data',\n",
       " 'https://www.hollywoodreporter.com/news/kirk-douglass-100': 'cannot save data',\n",
       " 'https://www.hollywoodreporter.com/features/writer-roundtable-tom-ford-pedro-almodovar-4': 'cannot save data',\n",
       " 'https://www.hollywoodreporter.com/features/animation-roundtable-seth-rogen-6': 'cannot save data',\n",
       " 'https://www.hollywoodreporter.com/features/director-roundtable-mel-gibson-denzel-washington-4': 'cannot save data',\n",
       " 'https://www.hollywoodreporter.com/review/small-apartments-review-sxsw-300696': 'cannot get html',\n",
       " 'https://www.hollywoodreporter.com/review/180': 'cannot save data',\n",
       " 'https://www.hollywoodreporter.com/review/442': 'cannot save data',\n",
       " 'https://www.hollywoodreporter.com/news/minions-boasts-record-115': 'cannot save data',\n",
       " 'https://www.hollywoodreporter.com/news/hobbit-trilogy-reportedly-cost-745': 'cannot save data',\n",
       " 'https://www.hollywoodreporter.com/news/coen-brothers-hail-caesar-lands-710517': 'cannot get html',\n",
       " 'https://www.hollywoodreporter.com/news/eileen-brennan-memorial-set-609718': 'cannot get html',\n",
       " 'https://www.hollywoodreporter.com/news/steve-coll-zero-dark-thirty-411447': 'cannot get html',\n",
       " 'https://www.hollywoodreporter.com/news/warner-bros-shuts-down-premiere-361400': 'cannot get html',\n",
       " 'https://www.hollywoodreporter.com/news/tom-sherak-academy-president-oscars-356179': 'cannot get html',\n",
       " 'https://www.hollywoodreporter.com/news/amc-bertelsmann-nala-invest-dramafever-336156': 'cannot get html',\n",
       " 'https://www.hollywoodreporter.com/news/nia-vardalos-book-deal-327788': 'cannot get html',\n",
       " 'https://www.hollywoodreporter.com/news/thats-what-she-said-anne-heche-phase-4-299272': 'cannot get html',\n",
       " 'https://www.hollywoodreporter.com/news/berlin-2012': 'cannot save data',\n",
       " 'https://www.hollywoodreporter.com/news/box-office-shocker-devil-inside-279373': 'cannot get html',\n",
       " 'https://www.hollywoodreporter.com/news/zach-helm-deep-water-fox-279832': 'cannot get html',\n",
       " 'https://www.hollywoodreporter.com/news/tintin-steven-spielberg-peter-jackson-249495': 'cannot get html',\n",
       " 'https://www.hollywoodreporter.com/news/busan-film-festival-242762': 'cannot get html',\n",
       " 'https://www.hollywoodreporter.com/news/telemundo-broadcast-disneypixar-films-241659': 'cannot get html',\n",
       " 'https://www.hollywoodreporter.com/news/meredith-goldstein-the-singles-lime-orchard-243770': 'cannot get html',\n",
       " 'https://www.hollywoodreporter.com/news/box-office-report-pirates-caribbean-207884': 'cannot get html',\n",
       " 'https://www.hollywoodreporter.com/news/lars-von-trier-cannes-ban-190283': 'cannot get html',\n",
       " 'https://www.hollywoodreporter.com/news/blizzard-major-factor-disappointing-christmas-65908': 'cannot get html',\n",
       " 'https://www.hollywoodreporter.com/news/denzel-washington-ease-fences-we-had-performed-114': 'cannot save data',\n",
       " 'https://www.hollywoodreporter.com/news/david-gordon-green-q-261228': 'cannot get html',\n",
       " 'https://www.hollywoodreporter.com/news/transformers-linkin-park-park-plays-205462': 'cannot get html'}"
      ]
     },
     "execution_count": 10,
     "metadata": {},
     "output_type": "execute_result"
    }
   ],
   "source": [
    "errors"
   ]
  },
  {
   "cell_type": "code",
   "execution_count": 11,
   "metadata": {},
   "outputs": [],
   "source": [
    "if len(errors)>0:\n",
    "    file = open(f'{media_name}_errors.csv', \"w\")\n",
    "    f = csv.writer(file)\n",
    "    f.writerow([\"url\", \"reason\"])\n",
    "    for key, value in errors.items():\n",
    "      f.writerow([key, value])\n",
    "    file.close()\n",
    "    \n",
    "#mod_df.head()    "
   ]
  },
  {
   "cell_type": "code",
   "execution_count": 12,
   "metadata": {},
   "outputs": [],
   "source": [
    "mod_df = mod_df.drop(df.columns[0], axis=1)"
   ]
  },
  {
   "cell_type": "code",
   "execution_count": 13,
   "metadata": {},
   "outputs": [],
   "source": [
    "mod_df.to_csv(f\"full_{media_name}_df.csv\", index=True)"
   ]
  },
  {
   "cell_type": "code",
   "execution_count": 24,
   "metadata": {},
   "outputs": [
    {
     "name": "stdout",
     "output_type": "stream",
     "text": [
      "101918 38\n"
     ]
    }
   ],
   "source": [
    "df = pd.read_csv(f'./full_df/full_hollywood_reporter_df.csv')\n",
    "err_df = pd.read_csv('hollywood_reporter_errors.csv')\n",
    "print(len(df), len(err_df))"
   ]
  },
  {
   "cell_type": "code",
   "execution_count": 25,
   "metadata": {},
   "outputs": [
    {
     "data": {
      "text/plain": [
       "101880"
      ]
     },
     "execution_count": 25,
     "metadata": {},
     "output_type": "execute_result"
    }
   ],
   "source": [
    "for row in err_df.itertuples():\n",
    "    url = getattr(row, 'url')\n",
    "    df_row = df.loc[df.article_url == url].to_dict()\n",
    "    index = list(df_row['text_path'].keys())[0]\n",
    "    df = df.drop(index=index)\n",
    "len(df)    "
   ]
  },
  {
   "cell_type": "code",
   "execution_count": null,
   "metadata": {},
   "outputs": [],
   "source": []
  }
 ],
 "metadata": {
  "kernelspec": {
   "display_name": "Python 3",
   "language": "python",
   "name": "python3"
  },
  "language_info": {
   "codemirror_mode": {
    "name": "ipython",
    "version": 3
   },
   "file_extension": ".py",
   "mimetype": "text/x-python",
   "name": "python",
   "nbconvert_exporter": "python",
   "pygments_lexer": "ipython3",
   "version": "3.7.1"
  }
 },
 "nbformat": 4,
 "nbformat_minor": 2
}
