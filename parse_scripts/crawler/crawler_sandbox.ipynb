{
  "nbformat": 4,
  "nbformat_minor": 0,
  "metadata": {
    "colab": {
      "name": "crawler_sandbox.ipynb",
      "version": "0.3.2",
      "provenance": [],
      "collapsed_sections": []
    },
    "kernelspec": {
      "name": "python3",
      "display_name": "Python 3"
    }
  },
  "cells": [
    {
      "cell_type": "code",
      "metadata": {
        "id": "Q_HFE8DBTN30",
        "colab_type": "code",
        "colab": {}
      },
      "source": [
        "import requests\n",
        "\n",
        "def get_html(url):\n",
        "  fake_headers = {'User-Agent': 'Mozilla/5.0 (Macintosh; Intel Mac OS X 10_11_5) AppleWebKit/537.36 (KHTML, like Gecko) Chrome/50.0.2661.102 Safari/537.36'}\n",
        "  response = requests.get(url, headers=fake_headers)\n",
        "  return response.text\n",
        "\n",
        "html_text = get_html(url='https://www.hollywoodreporter.com/news/udine-far-east-film-festival-hong-kong-drama-wins-top-prizes-1207587')\n",
        "#print(html_text)\n"
      ],
      "execution_count": 0,
      "outputs": []
    },
    {
      "cell_type": "code",
      "metadata": {
        "id": "prsA3dZ-TPoy",
        "colab_type": "code",
        "outputId": "0e0c97b8-27bf-481f-c8ed-7580dcb84a12",
        "colab": {
          "base_uri": "https://localhost:8080/",
          "height": 73
        }
      },
      "source": [
        "from bs4 import BeautifulSoup\n",
        "\n",
        "def get_article_text(html_text):\n",
        "  soup = BeautifulSoup(html_text, \"lxml\")\n",
        "  mydivs = soup.find(\"div\", {\"class\": \"article__body js-fitvids-content\"})\n",
        "  text = ''\n",
        "  for p in mydivs.find_all(\"p\"):\n",
        "    text += p.text + ' '\n",
        "  return text  \n",
        "\n",
        "print(get_article_text(html_text))"
      ],
      "execution_count": 3,
      "outputs": [
        {
          "output_type": "stream",
          "text": [
            "Hong Kong drama Still Human was the big winner Sunday night at the closing ceremony of the 21st Far East Film Festival (FEFF), the cult cinema event held each spring in the picturesque northern Italian city of Udine. The film, starring Hong Kong screen icon Anthony Wong, took home the festival's two top honors, the Audience Award and the Black Dragon Critics’ Prize. Still Human's triumph marked the first time a Hong Kong film won at Udine since 2003, when classic crime thriller Infernal Affairs, which also starred Wong, walked away with the audience prize. Directed by first-time filmmaker Oliver Chan, Still Human is an uplifting drama about a disabled Hong Kong man (Wong) and his Filipina domestic helper (played by Crisel Consunji), who overcome an initially frosty relationship to form an unlikely bond that helps each find more meaning in life. Wong was already in attendance in Udine as a special guest and recipient of the festival's Golden Mulberry Award for career achievement — making Still Human's Sunday night win doubly meaningful. The actor broke down in tears as he joined Chan and Consunji on the stage of Udine's Teatro Nuovo to receive the trophy from FEFF co-founder Sabrina Baracetti.  Consunji gave a brief acceptance speech on behalf of the filmmakers, saying: \"Thank you for embracing our film. We live on the other side of the world and we were worried that our film wouldn't be understood. But the world speaks a single language: the language of love. We hope others will bring out empathy where there is apathy; truth where there are lies.\" Chinese black comedy Dying to Survive won the festival's second-place audience award, while Korean blockbuster Extreme Job took the third-place trophy. FEFF's White Mulberry award, which honors the most distinguished first feature, went to Japanese newcomer Tanaka Seiji for Melancholic. The Far East Festival got its start 21 years ago with a focus mostly on golden age Hong Kong cinema. Today, the festival covers the commercial film industries of the entire East Asian and Southeast Asian region, with regular showcases devoted to mainland Chinese, Japanese, Korean or Thai cinema, for example. While most European film festivals tend to only highlight the rarified aesthetics of Asia's art house cinema, Udine is foremost devoted to providing a platform for commercial moviemaking from the East — the films that the world's most populous region actually watches regularly en masse. The uniqueness of that proposition has helped the festival attract a devoted following, both from Asian filmmakers — who routinely cite the festival as their favorite to attend (the local Italian wine and cuisine don't hurt, too) — and with the general Italian and European filmgoing public. The Udine festival says that over 60,000 people attend its screenings and events each year, a notable achievement given that the total population of the host city is just 100,000. The festival's pull was on display during its opening night last week, when Jeon Do-yeon, one of South Korea's biggest stars, took the stage to accept a career achievement honor before introducing her latest film, the family drama Birthday, which served as the festival's curtain raiser. Jeon is best known to foreign film audiences for her performance in Lee Chang-dong's Secret Sunshine, which won her the best actress award at Cannes in 2007. In addition to a broad array of film screenings (77 films shown this year), FEFF runs a filmmaking workshop series, a young journalist apprenticeship program and a project market called Focus Asia, which is designed to help facilitate European and Asia co-productions. This year, FEFF was able to see one of its Focus Asia projects come full-circle: Malaysian thriller Motif, by debut female filmmaker Nadiah Hamzah, made its world premiere in Udine earlier in the week, after getting its start several years ago as one of the first projects to emerge from the Focus Asia program. Despite FEFF's continued growth and established place in the Asia and European festival circuits, the event is under duress due to sizable recent funding cutbacks by the regional Italian government.  \"It goes without saying that it is impossible to maintain and protect the standards acquired over the last 20 years if this hemorrhaging of vital resources should continue,\" the festival organizers said in a statement Sunday. The festival said it managed to maintain its momentum in 2019 — due to \"work miracles\" — thanks to the efforts of its many volunteers. But the organizers added that \"an event as complex as FEFF needs a different kind of institutional approach if it is to look confidently to the future.\" \n",
            " \n"
          ],
          "name": "stdout"
        }
      ]
    },
    {
      "cell_type": "code",
      "metadata": {
        "id": "dfJmTfDO4xgv",
        "colab_type": "code",
        "colab": {}
      },
      "source": [
        "import pandas as pd\n",
        "hwr_urls_df = pd.read_csv('/content/hollywoodreporter_female_director_urls_records.csv')\n",
        "female_directors_df = pd.read_csv('/content/female_directors_wiki_20190505.csv')"
      ],
      "execution_count": 0,
      "outputs": []
    },
    {
      "cell_type": "code",
      "metadata": {
        "id": "fH26ohFv6lYh",
        "colab_type": "code",
        "colab": {
          "base_uri": "https://localhost:8080/",
          "height": 204
        },
        "outputId": "174d1e40-a21f-4dee-8859-70b567dff106"
      },
      "source": [
        "hwr_urls_df.head()"
      ],
      "execution_count": 5,
      "outputs": [
        {
          "output_type": "execute_result",
          "data": {
            "text/html": [
              "<div>\n",
              "<style scoped>\n",
              "    .dataframe tbody tr th:only-of-type {\n",
              "        vertical-align: middle;\n",
              "    }\n",
              "\n",
              "    .dataframe tbody tr th {\n",
              "        vertical-align: top;\n",
              "    }\n",
              "\n",
              "    .dataframe thead th {\n",
              "        text-align: right;\n",
              "    }\n",
              "</style>\n",
              "<table border=\"1\" class=\"dataframe\">\n",
              "  <thead>\n",
              "    <tr style=\"text-align: right;\">\n",
              "      <th></th>\n",
              "      <th>uid</th>\n",
              "      <th>category</th>\n",
              "      <th>url</th>\n",
              "    </tr>\n",
              "  </thead>\n",
              "  <tbody>\n",
              "    <tr>\n",
              "      <th>0</th>\n",
              "      <td>0</td>\n",
              "      <td>news</td>\n",
              "      <td>/news/rep-sheet-roundup-jennifer-esposito-911747</td>\n",
              "    </tr>\n",
              "    <tr>\n",
              "      <th>1</th>\n",
              "      <td>1</td>\n",
              "      <td>news</td>\n",
              "      <td>/news/study-women-make-up-29-percent-directors...</td>\n",
              "    </tr>\n",
              "    <tr>\n",
              "      <th>2</th>\n",
              "      <td>2</td>\n",
              "      <td>news</td>\n",
              "      <td>/news/edgar-wright-direct-london-based-psychol...</td>\n",
              "    </tr>\n",
              "    <tr>\n",
              "      <th>3</th>\n",
              "      <td>3</td>\n",
              "      <td>news</td>\n",
              "      <td>/features/how-melissa-mccarthy-stepped-juliann...</td>\n",
              "    </tr>\n",
              "    <tr>\n",
              "      <th>4</th>\n",
              "      <td>4</td>\n",
              "      <td>news</td>\n",
              "      <td>/news/how-metoo-movement-is-changing-showbiz-c...</td>\n",
              "    </tr>\n",
              "  </tbody>\n",
              "</table>\n",
              "</div>"
            ],
            "text/plain": [
              "   uid category                                                url\n",
              "0    0     news   /news/rep-sheet-roundup-jennifer-esposito-911747\n",
              "1    1     news  /news/study-women-make-up-29-percent-directors...\n",
              "2    2     news  /news/edgar-wright-direct-london-based-psychol...\n",
              "3    3     news  /features/how-melissa-mccarthy-stepped-juliann...\n",
              "4    4     news  /news/how-metoo-movement-is-changing-showbiz-c..."
            ]
          },
          "metadata": {
            "tags": []
          },
          "execution_count": 5
        }
      ]
    },
    {
      "cell_type": "code",
      "metadata": {
        "id": "aQ0oot0D5Gku",
        "colab_type": "code",
        "colab": {
          "base_uri": "https://localhost:8080/",
          "height": 204
        },
        "outputId": "f6c9ef8b-c52a-492e-c573-9f3b5f647222"
      },
      "source": [
        "female_directors_df.head()"
      ],
      "execution_count": 6,
      "outputs": [
        {
          "output_type": "execute_result",
          "data": {
            "text/html": [
              "<div>\n",
              "<style scoped>\n",
              "    .dataframe tbody tr th:only-of-type {\n",
              "        vertical-align: middle;\n",
              "    }\n",
              "\n",
              "    .dataframe tbody tr th {\n",
              "        vertical-align: top;\n",
              "    }\n",
              "\n",
              "    .dataframe thead th {\n",
              "        text-align: right;\n",
              "    }\n",
              "</style>\n",
              "<table border=\"1\" class=\"dataframe\">\n",
              "  <thead>\n",
              "    <tr style=\"text-align: right;\">\n",
              "      <th></th>\n",
              "      <th>name</th>\n",
              "      <th>wiki_url</th>\n",
              "    </tr>\n",
              "  </thead>\n",
              "  <tbody>\n",
              "    <tr>\n",
              "      <th>0</th>\n",
              "      <td>Jennifer Abbott</td>\n",
              "      <td>https://en.wikipedia.org/wiki/Jennifer_Abbott</td>\n",
              "    </tr>\n",
              "    <tr>\n",
              "      <th>1</th>\n",
              "      <td>Marguerite Abouet</td>\n",
              "      <td>https://en.wikipedia.org/wiki/Marguerite_Abouet</td>\n",
              "    </tr>\n",
              "    <tr>\n",
              "      <th>2</th>\n",
              "      <td>Abiola Abrams</td>\n",
              "      <td>https://en.wikipedia.org/wiki/Abiola_Abrams</td>\n",
              "    </tr>\n",
              "    <tr>\n",
              "      <th>3</th>\n",
              "      <td>Jill Ackles</td>\n",
              "      <td>https://en.wikipedia.org/wiki/Jill_Ackles</td>\n",
              "    </tr>\n",
              "    <tr>\n",
              "      <th>4</th>\n",
              "      <td>Joey Lauren Adams</td>\n",
              "      <td>https://en.wikipedia.org/wiki/Joey_Lauren_Adams</td>\n",
              "    </tr>\n",
              "  </tbody>\n",
              "</table>\n",
              "</div>"
            ],
            "text/plain": [
              "                name                                         wiki_url\n",
              "0    Jennifer Abbott    https://en.wikipedia.org/wiki/Jennifer_Abbott\n",
              "1  Marguerite Abouet  https://en.wikipedia.org/wiki/Marguerite_Abouet\n",
              "2      Abiola Abrams      https://en.wikipedia.org/wiki/Abiola_Abrams\n",
              "3        Jill Ackles        https://en.wikipedia.org/wiki/Jill_Ackles\n",
              "4  Joey Lauren Adams  https://en.wikipedia.org/wiki/Joey_Lauren_Adams"
            ]
          },
          "metadata": {
            "tags": []
          },
          "execution_count": 6
        }
      ]
    },
    {
      "cell_type": "code",
      "metadata": {
        "id": "GQ3TXvHZACLa",
        "colab_type": "code",
        "colab": {}
      },
      "source": [
        "urls = hwr_urls_df['url']\n",
        "names = female_directors_df['name']"
      ],
      "execution_count": 0,
      "outputs": []
    },
    {
      "cell_type": "code",
      "metadata": {
        "id": "oKx8OSCH5Zb-",
        "colab_type": "code",
        "colab": {
          "base_uri": "https://localhost:8080/",
          "height": 35
        },
        "outputId": "f1a4809e-f08d-47b4-ae4c-99a3fd432db3"
      },
      "source": [
        "# article about sofia coppola\n",
        "test_url = 'https://www.hollywoodreporter.com/news/elle-fanning-uma-thurman-diane-kruger-hit-pradas-resort-2020-show-1207308'\n",
        "html_text = get_html(test_url)\n",
        "article_text = get_article_text(html_text)\n",
        "matched_names = [x for x in names if x in article_text]\n",
        "matched_names"
      ],
      "execution_count": 8,
      "outputs": [
        {
          "output_type": "execute_result",
          "data": {
            "text/plain": [
              "['Sofia Coppola']"
            ]
          },
          "metadata": {
            "tags": []
          },
          "execution_count": 8
        }
      ]
    },
    {
      "cell_type": "code",
      "metadata": {
        "id": "WR2DYOlP6MBs",
        "colab_type": "code",
        "colab": {
          "base_uri": "https://localhost:8080/",
          "height": 35
        },
        "outputId": "7d9bb872-a079-4774-8e63-204b8f4deb50"
      },
      "source": [
        "from tqdm import tqdm, tqdm_notebook\n",
        "\n",
        "names_by_url = {}\n",
        "cannot_parsed = []\n",
        "\n",
        "with tqdm(desc=\"url\", total=len(urls)) as pbar_outer:\n",
        "  for url in urls:\n",
        "    try:\n",
        "      html_text = get_html('https://www.hollywoodreporter.com'+url)\n",
        "      article_text = get_article_text(html_text)\n",
        "      matched_names = [x for x in names if x in article_text]\n",
        "      if len(matched_names) > 0:\n",
        "        names_by_url[url] = matched_names\n",
        "    except:\n",
        "      cannot_parsed.append(url)\n",
        "    pbar_outer.update(1)            "
      ],
      "execution_count": 9,
      "outputs": [
        {
          "output_type": "stream",
          "text": [
            "url: 100%|██████████| 5770/5770 [49:12<00:00,  1.90it/s]\n"
          ],
          "name": "stderr"
        }
      ]
    },
    {
      "cell_type": "code",
      "metadata": {
        "id": "dTjs6P64Ab46",
        "colab_type": "code",
        "colab": {
          "base_uri": "https://localhost:8080/",
          "height": 53
        },
        "outputId": "0f251b2d-534d-44fe-9d91-2cee5d577155"
      },
      "source": [
        "print(len(names_by_url))\n",
        "print(len(cannot_parsed))"
      ],
      "execution_count": 10,
      "outputs": [
        {
          "output_type": "stream",
          "text": [
            "1346\n",
            "100\n"
          ],
          "name": "stdout"
        }
      ]
    },
    {
      "cell_type": "code",
      "metadata": {
        "id": "x0fVYV1-M1xJ",
        "colab_type": "code",
        "colab": {}
      },
      "source": [
        "import csv\n",
        "\n",
        "f = csv.writer(open(f\"matched_names_test_20190508.csv\", \"w\"))\n",
        "f.writerow([\"url\", \"matched_names\"])\n",
        "for key, value in names_by_url.items():\n",
        "  f.writerow([key, value])\n",
        "  \n",
        "  \n",
        "f = csv.writer(open(f\"cannot_parsed_20190508.csv\", \"w\"))\n",
        "f.writerow([\"url\"])\n",
        "for key in cannot_parsed:\n",
        "  f.writerow([key])  "
      ],
      "execution_count": 0,
      "outputs": []
    },
    {
      "cell_type": "code",
      "metadata": {
        "id": "iBToQHTCN9c3",
        "colab_type": "code",
        "colab": {}
      },
      "source": [
        ""
      ],
      "execution_count": 0,
      "outputs": []
    }
  ]
}