{
 "cells": [
  {
   "cell_type": "code",
   "execution_count": 1,
   "metadata": {},
   "outputs": [],
   "source": [
    "#Notebook for experiments in gathering data from https://deadline.com/, etc"
   ]
  },
  {
   "cell_type": "code",
   "execution_count": 2,
   "metadata": {},
   "outputs": [],
   "source": [
    "import re\n",
    "import requests\n",
    "from utils import parse_tools"
   ]
  },
  {
   "cell_type": "code",
   "execution_count": 9,
   "metadata": {},
   "outputs": [],
   "source": [
    "class DeadlineParseFormat:\n",
    "    host_name = \"https://deadline.com\"\n",
    "    categories = [\"film\"]\n",
    "    min_page_num = 1\n",
    "    max_page_num = 100000 #inf\n",
    "    def hay_page_URL(self, cat_name, page_num):\n",
    "        return f\"{self.host_name}/v/{cat_name}/page/{page_num}\"\n",
    "    def needle_URL_regexp(self, cat_name=''):\n",
    "        return f\"^{self.host_name}/\\d*/\\d*/[-\\w]*\""
   ]
  },
  {
   "cell_type": "code",
   "execution_count": 10,
   "metadata": {},
   "outputs": [],
   "source": [
    "site_format = DeadlineParseFormat()"
   ]
  },
  {
   "cell_type": "code",
   "execution_count": 11,
   "metadata": {},
   "outputs": [],
   "source": [
    "urls = set()\n",
    "hay_url = site_format.hay_page_URL(cat_name=\"film\", page_num=2)\n",
    "response = requests.get(hay_url)"
   ]
  },
  {
   "cell_type": "code",
   "execution_count": 15,
   "metadata": {},
   "outputs": [],
   "source": [
    "urls = set()            \n",
    "needle_pattern = site_format.needle_URL_regexp()\n",
    "parse_tools.gather_page_urls(response.text, needle_pattern, urls)            "
   ]
  },
  {
   "cell_type": "code",
   "execution_count": 16,
   "metadata": {},
   "outputs": [
    {
     "data": {
      "text/plain": [
       "'https://deadline.com/2019/04/deadline-relaunch-poll-redesign-1202592366'"
      ]
     },
     "execution_count": 16,
     "metadata": {},
     "output_type": "execute_result"
    }
   ],
   "source": [
    "result = re.match(needle_pattern, 'https://deadline.com/2019/04/deadline-relaunch-poll-redesign-1202592366/#comments')\n",
    "result[0]"
   ]
  },
  {
   "cell_type": "code",
   "execution_count": 17,
   "metadata": {},
   "outputs": [
    {
     "name": "stdout",
     "output_type": "stream",
     "text": [
      "22\n",
      "{'https://deadline.com/2019/04/ethan-hawke-tony-watch-interview-true-west-good-lord-bird-1202592003', 'https://deadline.com/2019/04/deadline-relaunch-poll-redesign-1202592366', 'https://deadline.com/2019/04/the-lion-king-trailer-disney-jon-favreau-circle-of-life-chiwetel-ejifor-1202592616', 'https://deadline.com/2019/04/filmnation-podcast-division-launch-1202592793', 'https://deadline.com/2019/04/the-dropout-hulu-limited-series-kate-mckinnon-star-elizabeth-holmes-fox-searchlight-television-abc-news-1202593032', 'https://deadline.com/2019/04/the-plot-against-america-winona-ryder-zoe-kazan-morgan-spector-john-turturro-hbo-miniseries-1202592810', 'https://deadline.com/2019/04/riverdale-camila-mendes-netflix-windfall-movie-palm-springs-1202591378', 'https://deadline.com/2019/04/black-widow-marvel-cast-handmaids-tale-actor-o-t-fagbenle-1202593084', 'https://deadline.com/2019/04/avengers-endgame-agbo-joe-russo-anthony-russo-mgm-library-the-thomas-crown-affair-1202591932', 'https://deadline.com/2019/04/eurovision-song-contest-no-us-home-madonna-signs-up-perform-2019-1202592477', 'https://deadline.com/2019/04/scooby-doo-movie-scoob-ken-jeong-kiersey-clemons-join-cast-1202593116', 'https://deadline.com/2019/04/sinead-oconnor-happy-mondays-frank-bruno-docs-lead-sheffield-doc-fest-1202592017', 'https://deadline.com/2019/04/warner-bros-goes-after-trump-for-using-the-dark-knight-rises-score-in-tweet-1202592451', 'https://deadline.com/2019/04/lori-loughlin-when-calls-the-heart-return-hallmark-channel-college-bribery-scheme-jail-time-1202591979', 'https://deadline.com/2019/04/the-prom-ryan-murphy-netflix-movie-in-the-works-1202592370', 'https://deadline.com/2019/04/angie-thomas-on-the-come-up-moving-fox-2000-paramount-elizabeth-gabler-1202592843', 'https://deadline.com/2019/04/cannes-jim-jarmusch-zombie-movie-dead-dont-die-bill-murray-open-festival-1202592665', 'https://deadline.com/2019/04/tv-academy-reclassifies-american-horror-story-the-sinner-american-vandal-1202592264', 'https://deadline.com/2019/04/american-horror-story-season-9-ahs-1984-1202592750', 'https://deadline.com/2019/04/lori-loughlin-college-bribery-scheme-when-calls-the-heart-return-date-hallmark-channel-1202592855', 'https://deadline.com/2019/04/mighty-mouse-movie-paramount-animation-jon-hoeber-erich-hoeber-writing-meg-1202592891', 'https://deadline.com/2019/04/imax-open-biggest-screen-germany-leonberg-1202592759'}\n"
     ]
    }
   ],
   "source": [
    "print(len(urls))\n",
    "print(urls)"
   ]
  },
  {
   "cell_type": "code",
   "execution_count": null,
   "metadata": {},
   "outputs": [],
   "source": []
  }
 ],
 "metadata": {
  "kernelspec": {
   "display_name": "Python 3",
   "language": "python",
   "name": "python3"
  },
  "language_info": {
   "codemirror_mode": {
    "name": "ipython",
    "version": 3
   },
   "file_extension": ".py",
   "mimetype": "text/x-python",
   "name": "python",
   "nbconvert_exporter": "python",
   "pygments_lexer": "ipython3",
   "version": "3.7.1"
  }
 },
 "nbformat": 4,
 "nbformat_minor": 2
}
