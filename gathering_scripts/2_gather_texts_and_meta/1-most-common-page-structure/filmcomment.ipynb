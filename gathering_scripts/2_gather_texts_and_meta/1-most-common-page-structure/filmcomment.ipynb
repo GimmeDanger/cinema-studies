{
 "cells": [
  {
   "cell_type": "code",
   "execution_count": 1,
   "metadata": {},
   "outputs": [],
   "source": [
    "#Notebook for experiments in gathering data"
   ]
  },
  {
   "cell_type": "code",
   "execution_count": 2,
   "metadata": {},
   "outputs": [],
   "source": [
    "import os\n",
    "import re\n",
    "import csv\n",
    "import requests\n",
    "import warnings\n",
    "import pandas as pd\n",
    "from bs4 import BeautifulSoup\n",
    "from tqdm import tqdm, tqdm_notebook\n",
    "warnings.filterwarnings('ignore')"
   ]
  },
  {
   "cell_type": "code",
   "execution_count": 3,
   "metadata": {},
   "outputs": [],
   "source": [
    "df_path = '../../raw_data/film_media_df.csv'\n",
    "media_name = 'filmcomment'"
   ]
  },
  {
   "cell_type": "code",
   "execution_count": 9,
   "metadata": {},
   "outputs": [
    {
     "name": "stdout",
     "output_type": "stream",
     "text": [
      "344225\n",
      "['deadline' 'hollywood_reporter' 'variety' 'filmcomment']\n"
     ]
    },
    {
     "data": {
      "text/html": [
       "<div>\n",
       "<style scoped>\n",
       "    .dataframe tbody tr th:only-of-type {\n",
       "        vertical-align: middle;\n",
       "    }\n",
       "\n",
       "    .dataframe tbody tr th {\n",
       "        vertical-align: top;\n",
       "    }\n",
       "\n",
       "    .dataframe thead th {\n",
       "        text-align: right;\n",
       "    }\n",
       "</style>\n",
       "<table border=\"1\" class=\"dataframe\">\n",
       "  <thead>\n",
       "    <tr style=\"text-align: right;\">\n",
       "      <th></th>\n",
       "      <th>media</th>\n",
       "      <th>article_url</th>\n",
       "      <th>text_path</th>\n",
       "      <th>category</th>\n",
       "    </tr>\n",
       "  </thead>\n",
       "  <tbody>\n",
       "    <tr>\n",
       "      <th>0</th>\n",
       "      <td>deadline</td>\n",
       "      <td>https://deadline.com/2019/01/4-percent-challen...</td>\n",
       "      <td>deadline/0.txt</td>\n",
       "      <td>film</td>\n",
       "    </tr>\n",
       "    <tr>\n",
       "      <th>1</th>\n",
       "      <td>deadline</td>\n",
       "      <td>https://deadline.com/2019/03/jared-harris-jare...</td>\n",
       "      <td>deadline/1.txt</td>\n",
       "      <td>film</td>\n",
       "    </tr>\n",
       "    <tr>\n",
       "      <th>2</th>\n",
       "      <td>deadline</td>\n",
       "      <td>https://deadline.com/2019/03/sky-tin-star-tim-...</td>\n",
       "      <td>deadline/2.txt</td>\n",
       "      <td>film</td>\n",
       "    </tr>\n",
       "    <tr>\n",
       "      <th>3</th>\n",
       "      <td>deadline</td>\n",
       "      <td>https://deadline.com/2019/02/jj-abrams-jedi-st...</td>\n",
       "      <td>deadline/3.txt</td>\n",
       "      <td>film</td>\n",
       "    </tr>\n",
       "    <tr>\n",
       "      <th>4</th>\n",
       "      <td>deadline</td>\n",
       "      <td>https://deadline.com/2019/03/june-harding-dies...</td>\n",
       "      <td>deadline/4.txt</td>\n",
       "      <td>film</td>\n",
       "    </tr>\n",
       "  </tbody>\n",
       "</table>\n",
       "</div>"
      ],
      "text/plain": [
       "      media                                        article_url  \\\n",
       "0  deadline  https://deadline.com/2019/01/4-percent-challen...   \n",
       "1  deadline  https://deadline.com/2019/03/jared-harris-jare...   \n",
       "2  deadline  https://deadline.com/2019/03/sky-tin-star-tim-...   \n",
       "3  deadline  https://deadline.com/2019/02/jj-abrams-jedi-st...   \n",
       "4  deadline  https://deadline.com/2019/03/june-harding-dies...   \n",
       "\n",
       "        text_path category  \n",
       "0  deadline/0.txt     film  \n",
       "1  deadline/1.txt     film  \n",
       "2  deadline/2.txt     film  \n",
       "3  deadline/3.txt     film  \n",
       "4  deadline/4.txt     film  "
      ]
     },
     "execution_count": 9,
     "metadata": {},
     "output_type": "execute_result"
    }
   ],
   "source": [
    "df = pd.read_csv(df_path)\n",
    "print(len(df))\n",
    "print(df['media'].unique())\n",
    "df.head()"
   ]
  },
  {
   "cell_type": "code",
   "execution_count": 10,
   "metadata": {},
   "outputs": [
    {
     "name": "stdout",
     "output_type": "stream",
     "text": [
      "4046\n"
     ]
    },
    {
     "data": {
      "text/html": [
       "<div>\n",
       "<style scoped>\n",
       "    .dataframe tbody tr th:only-of-type {\n",
       "        vertical-align: middle;\n",
       "    }\n",
       "\n",
       "    .dataframe tbody tr th {\n",
       "        vertical-align: top;\n",
       "    }\n",
       "\n",
       "    .dataframe thead th {\n",
       "        text-align: right;\n",
       "    }\n",
       "</style>\n",
       "<table border=\"1\" class=\"dataframe\">\n",
       "  <thead>\n",
       "    <tr style=\"text-align: right;\">\n",
       "      <th></th>\n",
       "      <th>media</th>\n",
       "      <th>article_url</th>\n",
       "      <th>text_path</th>\n",
       "      <th>category</th>\n",
       "    </tr>\n",
       "  </thead>\n",
       "  <tbody>\n",
       "    <tr>\n",
       "      <th>340179</th>\n",
       "      <td>filmcomment</td>\n",
       "      <td>https://www.filmcomment.com/blog/interview-bre...</td>\n",
       "      <td>filmcomment/340179.txt</td>\n",
       "      <td>blog</td>\n",
       "    </tr>\n",
       "    <tr>\n",
       "      <th>340180</th>\n",
       "      <td>filmcomment</td>\n",
       "      <td>https://www.filmcomment.com/blog/deep-focus-ma...</td>\n",
       "      <td>filmcomment/340180.txt</td>\n",
       "      <td>blog</td>\n",
       "    </tr>\n",
       "    <tr>\n",
       "      <th>340181</th>\n",
       "      <td>filmcomment</td>\n",
       "      <td>https://www.filmcomment.com/blog/lois-weber-du...</td>\n",
       "      <td>filmcomment/340181.txt</td>\n",
       "      <td>blog</td>\n",
       "    </tr>\n",
       "    <tr>\n",
       "      <th>340182</th>\n",
       "      <td>filmcomment</td>\n",
       "      <td>https://www.filmcomment.com/blog/making-case-c...</td>\n",
       "      <td>filmcomment/340182.txt</td>\n",
       "      <td>blog</td>\n",
       "    </tr>\n",
       "    <tr>\n",
       "      <th>340183</th>\n",
       "      <td>filmcomment</td>\n",
       "      <td>https://www.filmcomment.com/blog/the-film-comm...</td>\n",
       "      <td>filmcomment/340183.txt</td>\n",
       "      <td>blog</td>\n",
       "    </tr>\n",
       "  </tbody>\n",
       "</table>\n",
       "</div>"
      ],
      "text/plain": [
       "              media                                        article_url  \\\n",
       "340179  filmcomment  https://www.filmcomment.com/blog/interview-bre...   \n",
       "340180  filmcomment  https://www.filmcomment.com/blog/deep-focus-ma...   \n",
       "340181  filmcomment  https://www.filmcomment.com/blog/lois-weber-du...   \n",
       "340182  filmcomment  https://www.filmcomment.com/blog/making-case-c...   \n",
       "340183  filmcomment  https://www.filmcomment.com/blog/the-film-comm...   \n",
       "\n",
       "                     text_path category  \n",
       "340179  filmcomment/340179.txt     blog  \n",
       "340180  filmcomment/340180.txt     blog  \n",
       "340181  filmcomment/340181.txt     blog  \n",
       "340182  filmcomment/340182.txt     blog  \n",
       "340183  filmcomment/340183.txt     blog  "
      ]
     },
     "execution_count": 10,
     "metadata": {},
     "output_type": "execute_result"
    }
   ],
   "source": [
    "df = df.loc[df.media == media_name]\n",
    "print(len(df))\n",
    "df.head()"
   ]
  },
  {
   "cell_type": "code",
   "execution_count": 32,
   "metadata": {},
   "outputs": [],
   "source": [
    "# import requests\n",
    "def get_html(url):\n",
    "    fake_headers = {'User-Agent': 'Mozilla/5.0 (Macintosh; Intel Mac OS X 10_11_5) AppleWebKit/537.36 (KHTML, like Gecko) Chrome/50.0.2661.102 Safari/537.36'}\n",
    "    response = requests.get(url, headers=fake_headers)\n",
    "    return response.text\n",
    "\n",
    "def get_html_test():\n",
    "    test_url = df.iloc[0]['article_url']\n",
    "    print(test_url)\n",
    "    print(get_html(test_url))\n",
    "\n",
    "#get_html_test()"
   ]
  },
  {
   "cell_type": "code",
   "execution_count": 34,
   "metadata": {},
   "outputs": [],
   "source": [
    "#from bs4 import BeautifulSoup\n",
    "def get_article_text(html_text):\n",
    "    soup = BeautifulSoup(html_text, \"lxml\")\n",
    "    mydivs = soup.find(\"div\", {\"class\": 'post-content'})\n",
    "    text = ''\n",
    "    for p in mydivs.find_all(\"p\"):\n",
    "        text += p.text + ' '\n",
    "    return text\n",
    "\n",
    "def get_article_meta(html_text, meta_names):\n",
    "    ret = {}\n",
    "    soup = BeautifulSoup(html_text, \"lxml\")\n",
    "    for name in meta_names:\n",
    "        for meta in soup.find_all(\"meta\", {\"property\": name}):\n",
    "            if name not in ret:\n",
    "                ret[name] = meta['content']\n",
    "            elif ret[name] != meta['content']:\n",
    "                ret[name] = ret[name] + ', ' + meta['content']\n",
    "    return ret\n",
    "\n",
    "def get_article_text_test():    \n",
    "    test_url = df.iloc[0]['article_url']\n",
    "    html_text = get_html(test_url)\n",
    "    return get_article_text(html_text)\n",
    "\n",
    "def get_article_meta_test():    \n",
    "    test_url = df.iloc[0]['article_url']\n",
    "    html_text = get_html(test_url)\n",
    "    return get_article_meta(html_text, ['og:type', 'og:title', 'og:description', 'article:section', 'article:published_time'])\n",
    "\n",
    "#get_article_meta_test()"
   ]
  },
  {
   "cell_type": "code",
   "execution_count": 35,
   "metadata": {},
   "outputs": [
    {
     "name": "stdout",
     "output_type": "stream",
     "text": [
      "cannot create dir\n"
     ]
    }
   ],
   "source": [
    "try:\n",
    "    os.mkdir(media_name)\n",
    "except:\n",
    "    print(\"cannot create dir\")\n",
    "    \n",
    "df_meta_names = ['og:type', 'og:title', 'og:description', 'article:section', 'article:published_time']"
   ]
  },
  {
   "cell_type": "code",
   "execution_count": 39,
   "metadata": {},
   "outputs": [],
   "source": [
    "def parse_article_urls(df, meta_names):    \n",
    "    modified_df = df\n",
    "    # expand dataframe, add columns for meta    \n",
    "    for name in meta_names:\n",
    "        prefix, real_name = name.split(':')\n",
    "        modified_df[real_name] = None\n",
    "        \n",
    "    cannot_parsed = {} # {url : reason}\n",
    "    with tqdm(desc=\"rows\", total=len(df)) as pbar_outer:\n",
    "        for row in df.itertuples():\n",
    "            url = getattr(row, 'article_url')\n",
    "            # part 0: get html text\n",
    "            html_text = None\n",
    "            try:\n",
    "                html_text = get_html(url)\n",
    "            except:\n",
    "                cannot_parsed[url] = 'cannot get html'\n",
    "                pbar_outer.update(1)\n",
    "                continue                \n",
    "            # part 1: get article text\n",
    "            article_text = None\n",
    "            try:\n",
    "                article_text = get_article_text(html_text)                          \n",
    "            except:\n",
    "                cannot_parsed[url] = 'cannot get text'\n",
    "                pbar_outer.update(1)\n",
    "                continue\n",
    "            # part 2: get article meta\n",
    "            article_meta = None\n",
    "            try:\n",
    "                article_meta = get_article_meta(html_text, meta_names)\n",
    "            except:\n",
    "                cannot_parsed[url] = 'cannot get meta'\n",
    "                pbar_outer.update(1)\n",
    "                continue\n",
    "            # part 3: save data\n",
    "            try:\n",
    "                for name in meta_names:\n",
    "                    prefix, real_name = name.split(':')\n",
    "                    if name in article_meta:\n",
    "                        modified_df.at[getattr(row,'Index'),real_name] = article_meta[name]    \n",
    "                file = open(getattr(row,'text_path'),'w')\n",
    "                file.write(article_text)  \n",
    "                file.close()\n",
    "            except:\n",
    "                cannot_parsed[url] = 'cannot save data'\n",
    "            pbar_outer.update(1)\n",
    "            break\n",
    "    return (modified_df, cannot_parsed)"
   ]
  },
  {
   "cell_type": "code",
   "execution_count": 40,
   "metadata": {
    "scrolled": true
   },
   "outputs": [
    {
     "name": "stderr",
     "output_type": "stream",
     "text": [
      "rows:   0%|          | 1/4046 [00:00<1:00:44,  1.11it/s]"
     ]
    },
    {
     "name": "stdout",
     "output_type": "stream",
     "text": [
      "{'og:type': 'article', 'og:title': 'Interview: Brett Story - Film Comment', 'og:description': 'Warming up: the filmmaker behind The Hottest August on New York City as a microcosm of a world in systemic crisis', 'article:section': 'Interviews', 'article:published_time': '2019-03-11T16:57:43+00:00'}\n"
     ]
    },
    {
     "name": "stderr",
     "output_type": "stream",
     "text": [
      "\n"
     ]
    }
   ],
   "source": [
    "mod_df, errors = parse_article_urls(df, df_meta_names)"
   ]
  },
  {
   "cell_type": "code",
   "execution_count": 42,
   "metadata": {},
   "outputs": [],
   "source": [
    "#errors"
   ]
  },
  {
   "cell_type": "code",
   "execution_count": 43,
   "metadata": {
    "scrolled": true
   },
   "outputs": [],
   "source": [
    "if len(errors)>0:\n",
    "    file = open(f'{media_name}_errors.csv', \"w\")\n",
    "    f = csv.writer(file)\n",
    "    f.writerow([\"url\", \"reason\"])\n",
    "    for key, value in errors.items():\n",
    "      f.writerow([key, value])\n",
    "    file.close()\n",
    "    \n",
    "#mod_df.head()    "
   ]
  },
  {
   "cell_type": "code",
   "execution_count": 44,
   "metadata": {},
   "outputs": [],
   "source": [
    "mod_df.to_csv(f\"mod_{media_name}_df.csv\", index=True)"
   ]
  },
  {
   "cell_type": "code",
   "execution_count": null,
   "metadata": {},
   "outputs": [],
   "source": []
  }
 ],
 "metadata": {
  "kernelspec": {
   "display_name": "Python 3",
   "language": "python",
   "name": "python3"
  },
  "language_info": {
   "codemirror_mode": {
    "name": "ipython",
    "version": 3
   },
   "file_extension": ".py",
   "mimetype": "text/x-python",
   "name": "python",
   "nbconvert_exporter": "python",
   "pygments_lexer": "ipython3",
   "version": "3.7.1"
  }
 },
 "nbformat": 4,
 "nbformat_minor": 2
}
